{
 "cells": [
  {
   "cell_type": "code",
   "execution_count": 1,
   "id": "a389594c",
   "metadata": {},
   "outputs": [],
   "source": [
    "import requests\n",
    "from bs4 import BeautifulSoup\n",
    "import lxml"
   ]
  },
  {
   "cell_type": "code",
   "execution_count": 2,
   "id": "4bd80e04",
   "metadata": {},
   "outputs": [
    {
     "name": "stdout",
     "output_type": "stream",
     "text": [
      "The FIFA World Cup, often called the World Cup, is an international association football competition among the senior men's national teams of the members of the Fédération Internationale de Football Association (FIFA), the sport's global governing body. The tournament has been held every four years since the inaugural tournament in 1930, with the exception of 1942 and 1946 due to the Second World War. The reigning champions are Argentina, who won their third title at the 2022 tournament.[1] The contest starts with the qualification phase, which takes place over the preceding three years to determine which teams qualify for the tournament phase. In the tournament phase, 32 teams compete for the title at venues within the host nation(s) over the course of about a month. The host nation(s) automatically qualify for the group stage of the tournament. The competition is scheduled to expand to 48 teams, starting with the 2026 tournament. As of the 2022 FIFA World Cup, 22 final tournaments ha\n"
     ]
    }
   ],
   "source": [
    "import requests\n",
    "from bs4 import BeautifulSoup\n",
    "import re\n",
    "url = 'https://en.wikipedia.org/wiki/FIFA_World_Cup'\n",
    "response = requests.get(url)\n",
    "\n",
    "\n",
    "soup = BeautifulSoup(response.text, 'html.parser')\n",
    "\n",
    "\n",
    "content_div = soup.find('div', {'id': 'mw-content-text'})\n",
    "\n",
    "paragraphs = content_div.find_all('p')\n",
    "main_content = ' '.join([para.get_text() for para in paragraphs])\n",
    "\n",
    "\n",
    "main_content = re.sub(r'&[a-zA-Z]+;', ' ', main_content)  \n",
    "\n",
    "\n",
    "main_content = main_content.replace(u'\\xa0', ' ')\n",
    "\n",
    "\n",
    "main_content = re.sub(r'[\\r\\n\\t]+', ' ', main_content)  \n",
    "main_content = re.sub(r'\\s+', ' ', main_content) \n",
    "\n",
    "\n",
    "cleaned_content = main_content.strip()\n",
    "print(cleaned_content[:1000])"
   ]
  },
  {
   "cell_type": "code",
   "execution_count": 3,
   "id": "76ff0fe9",
   "metadata": {},
   "outputs": [],
   "source": [
    "import spacy\n",
    "from spacy import displacy\n",
    "nlp=spacy.load('en_core_web_sm')\n",
    "doc=nlp(cleaned_content)"
   ]
  },
  {
   "cell_type": "code",
   "execution_count": 4,
   "id": "a5445f3b",
   "metadata": {},
   "outputs": [
    {
     "data": {
      "text/plain": [
       "[('world', 139),\n",
       " ('cup', 98),\n",
       " ('fifa', 81),\n",
       " ('teams', 55),\n",
       " ('tournament', 52),\n",
       " ('football', 34),\n",
       " ('won', 26),\n",
       " ('south', 25),\n",
       " ('brazil', 24),\n",
       " ('host', 22)]"
      ]
     },
     "execution_count": 4,
     "metadata": {},
     "output_type": "execute_result"
    }
   ],
   "source": [
    "#most frequent words\n",
    "\n",
    "from collections import Counter\n",
    "words = [token.text.lower() for token in doc if not token.is_stop and not token.is_punct]\n",
    "\n",
    "word_freq = Counter(words)\n",
    "\n",
    "word_freq.most_common(10)"
   ]
  },
  {
   "cell_type": "code",
   "execution_count": 5,
   "id": "9950b508",
   "metadata": {},
   "outputs": [
    {
     "name": "stdout",
     "output_type": "stream",
     "text": [
      "Sentence 1: The FIFA World Cup, often called the World Cup, is an international association football competition among the senior men's national teams of the members of the Fédération Internationale de Football Association (FIFA), the sport's global governing body.\n",
      "Sentence 2: The tournament has been held every four years since the inaugural tournament in 1930, with the exception of 1942 and 1946 due to the Second World War.\n",
      "Sentence 3: The reigning champions are Argentina, who won their third title at the 2022 tournament.[1]\n",
      "Sentence 4: The contest starts with the qualification phase, which takes place over the preceding three years to determine which teams qualify for the tournament phase.\n",
      "Sentence 5: In the tournament phase, 32 teams compete for the title at venues within the host nation(s) over the course of about a month.\n",
      "Sentence 6: The host nation(s) automatically qualify for the group stage of the tournament.\n",
      "Sentence 7: The competition is scheduled to expand to 48 teams, starting with the 2026 tournament.\n",
      "Sentence 8: As of the 2022 FIFA World Cup, 22 final tournaments have been held since the event's inception in 1930, and a total of 80 national teams have competed.\n",
      "Sentence 9: The trophy has been won by eight national teams.\n",
      "Sentence 10: With five wins, Brazil is the only team to have played in every tournament.\n",
      "Sentence 11: The other World Cup winners are Germany and Italy, with four titles each; Argentina, with three titles; France and inaugural winner Uruguay, each with two titles; and England and Spain, with one title each.\n",
      "Sentence 12: The World Cup is the most prestigious association football competition in the world, as well as the most widely viewed and followed sporting event in the world.[2][3] The viewership of the 2018 World Cup was estimated to be 3.57 billion, close to half of the global population,[4][5] while the engagement with the 2022 World Cup was estimated to be 5 billion, with about 1.5 billion people watching the final match.[6] Seventeen countries have hosted the World Cup, most recently Qatar, who hosted the 2022 event.\n",
      "Sentence 13: The 2026 tournament will be jointly hosted by Canada, the United States and Mexico, which will give Mexico the distinction of being the first country to host games in three World Cups.\n",
      "Sentence 14: The world's first international football match was a challenge match played in Glasgow in 1872 between Scotland and England.[7] The first international tournament for nations, the inaugural British Home Championship, took place in 1884 and included games between England, Scotland, Wales, and Ireland.[8]\n",
      "Sentence 15: As football grew in popularity in other parts of the world at the start of the 20th century, it was held as a demonstration sport with no medals awarded at the 1900 and 1904 Summer Olympics; however, the International Olympic Committee has retroactively upgraded their status to official events, as well as the 1906 Intercalated Games.[9]\n",
      "Sentence 16: After FIFA was founded in 1904, it tried to arrange an international football tournament between nations outside the Olympic framework in Switzerland in 1906.\n",
      "Sentence 17: These were very early days for international football, and the official history of FIFA describes the competition as having been unsuccessful.[10] At the 1908 Summer Olympics in London, football became an official Olympic sport.\n",
      "Sentence 18: Planned by The Football Association (FA), England's football governing body, the event was for amateur players only and was regarded suspiciously as a show rather than a competition.\n",
      "Sentence 19: Great Britain (represented by the England national amateur football team) won the gold medals.\n",
      "Sentence 20: They repeated the feat at the 1912 Summer Olympics in Stockholm.[11] With the Olympic event continuing to be a contest between amateur teams only, Sir Thomas Lipton organised the Sir Thomas Lipton Trophy tournament in Turin in 1909.\n",
      "Sentence 21: The Lipton tournament was a championship between individual clubs (not national teams) from different nations, each of which represented an entire nation.\n",
      "Sentence 22: The competition is sometimes described as The First World Cup,[12] and featured the most prestigious professional club sides from Italy, Germany and Switzerland, but the FA of England refused to be associated with the competition and declined the offer to send a professional team.\n",
      "Sentence 23: Lipton invited West Auckland, an amateur side from County Durham, to represent England instead.\n",
      "Sentence 24: West Auckland won the tournament and returned in 1911 to successfully defend their title.[13] Prior to the Lipton competition, from 1876 to 1904, games that were considered to be the \"football world championship\" were meetings between leading English and Scottish clubs, such as the 1895 game between Sunderland A.F.C. and the Heart of Midlothian F.C., which Sunderland won.[14]\n",
      "Sentence 25: In 1914, FIFA agreed to recognise the Olympic tournament as a \"world football championship for amateurs\", and took responsibility for managing the event.[15] This paved the way for the world's first intercontinental football competition for nations, at the 1920 Summer Olympics, contested by Egypt and 13 European teams, and won by Belgium.[16]\n",
      "Sentence 26: Uruguay won the next two Olympic football tournaments in 1924 and 1928.\n",
      "Sentence 27: Those were also the first two open world championships, as 1924 was the start of FIFA's professional era, and is the reason why Uruguay is allowed to wear 4 stars.[17][18] Due to the success of the Olympic football tournaments, FIFA, with President Jules Rimet as the driving force, again started looking at staging its own international tournament outside of the Olympics.\n",
      "Sentence 28: On 28 May 1928, the FIFA Congress in Amsterdam decided to stage a world championship.[19] With Uruguay now two-time official football world champions and to celebrate their centenary of independence in 1930, FIFA named Uruguay as the host country of the inaugural World Cup tournament.[20]\n",
      "Sentence 29: The national associations of selected nations were invited to send a team, but the choice of Uruguay as a venue for the competition meant a long and costly trip across the Atlantic Ocean for European sides, especially in the midst of the Great Depression.\n",
      "Sentence 30: As such, no European country pledged to send a team until two months before the start of the competition.\n",
      "Sentence 31: Rimet eventually persuaded teams from Belgium, France, Romania, and Yugoslavia to make the trip.[20]\n",
      "Sentence 32: In total, 13 nations took part: seven from South America, four from Europe, and two from North America.[21]\n",
      "Sentence 33: The first two World Cup matches took place simultaneously on 13 July 1930, and were won by France and the United States, who defeated Mexico 4–1 and Belgium 3–0 respectively.\n",
      "Sentence 34: The first goal in World Cup history was scored by Lucien Laurent of France.[22]\n",
      "Sentence 35: In the final, Uruguay defeated Argentina 4–2 in front of 93,000 spectators in Montevideo, and became the first nation to win the World Cup.[23]\n",
      "Sentence 36: After the creation of the World Cup, FIFA and the IOC disagreed over the status of amateur players; football was dropped from the 1932 Summer Olympics.[24][25]\n",
      "Sentence 37: After the IOC and FIFA worked out their differences, Olympic football returned at the 1936 Summer Olympics, but was now overshadowed by the more prestigious World Cup.[24]\n",
      "Sentence 38: The issues facing the early World Cup tournaments were the difficulties of intercontinental travel, and war.\n",
      "Sentence 39: Few South American teams were willing to travel to Europe for the 1934 World Cup and all North and South American nations except Brazil and Cuba boycotted the 1938 tournament.\n",
      "Sentence 40: Brazil was the only South American team to compete in both.\n",
      "Sentence 41: The 1942 and 1946 competitions, which Germany and Brazil sought to host,[26] were cancelled due to World War II.[27]\n",
      "Sentence 42: The 1950 World Cup, held in Brazil, was the first to include British football associations.\n",
      "Sentence 43: Scotland, England, Wales, and Northern Ireland had withdrawn from FIFA in 1920, partly out of unwillingness to play against the countries they had been at war with, and partly as a protest against foreign influence on football.[28]\n",
      "Sentence 44: The teams rejoined in 1946 following FIFA's invitation.[29]\n",
      "Sentence 45: The tournament also saw the return of 1930 champions Uruguay, who had boycotted the previous two World Cups.\n",
      "Sentence 46: Uruguay won the tournament again after defeating the host nation Brazil, in the match called \"Maracanazo\" (Portuguese: Maracanaço).[30]\n",
      "Sentence 47: In the tournaments between 1934 and 1978, 16 teams competed in each tournament, except in 1938, when Austria was absorbed into Germany after qualifying, leaving the tournament with 15 teams, and in 1950, when India, Scotland, and Turkey withdrew, leaving the tournament with 13 teams.[31] Most of the participating nations were from Europe and South America, with a small minority from North America, Africa, Asia, and Oceania.\n",
      "Sentence 48: These teams were usually defeated easily by the European and South American teams.\n",
      "Sentence 49: Until 1982, the only teams from outside Europe and South America to advance out of the first round were: United States, semi-finalists in 1930; Cuba, quarter-finalists in 1938; North Korea, quarter-finalists in 1966; and Mexico, quarter-finalists in 1970.\n",
      "Sentence 50: The tournament was expanded to 24 teams in 1982,[32] and then to 32 in 1998,[33] allowing more teams from Africa, Asia and North America to take part.\n",
      "Sentence 51: Since then, teams from these regions have enjoyed more success, with several having reached the quarter-finals: Mexico, quarter-finalists in 1986; Cameroon, quarter-finalists in 1990; South Korea, finishing in fourth place in 2002; Senegal, along with USA, both quarter-finalists in 2002; Ghana, quarter-finalists in 2010; Costa Rica, quarter-finalists in 2014; and Morocco, finishing in fourth place in 2022.\n",
      "Sentence 52: European and South American teams continue to dominate, e.g., the quarter-finalists in 1994, 1998, 2006 and 2018 were all from Europe or South America and so were the finalists of all tournaments so far.\n",
      "Sentence 53: Two hundred teams entered the 2002 FIFA World Cup qualification rounds.\n",
      "Sentence 54: 198 nations attempted to qualify for the 2006 FIFA World Cup.\n",
      "Sentence 55: A record 204 countries entered qualification for the 2010 FIFA World Cup.[34]\n",
      "Sentence 56: In October 2013, Sepp Blatter spoke of guaranteeing the Caribbean Football Union's region a position in the World Cup.[35]\n",
      "Sentence 57: In the edition of 25 October 2013 of the FIFA Weekly Blatter wrote that: \"From a purely sporting perspective, I would like to see globalisation finally taken seriously, and the African and Asian national associations accorded the status they deserve at the FIFA World Cup.\n",
      "Sentence 58: It cannot be that the European and South American confederations lay claim to the majority of the berths at the World Cup.\"[36]\n",
      "Sentence 59: Those two remarks suggested to commentators that Blatter could be putting himself forward for re-election to the FIFA Presidency.[37]\n",
      "Sentence 60: Following the magazine's publication, Blatter's would-be opponent for the FIFA Presidency, UEFA President Michel Platini, responded that he intended to extend the World Cup to 40 national associations, increasing the number of participants by eight.\n",
      "Sentence 61: Platini said that he would allocate an additional berth to UEFA, two each to the Asian Football Confederation and the Confederation of African Football, two shared between CONCACAF and CONMEBOL, and a guaranteed place for the Oceania Football Confederation.[38]\n",
      "Sentence 62: Platini was clear about why he wanted to expand the World Cup.\n",
      "Sentence 63: He said: \"[The World Cup is] not based on the quality of the teams because you don't have the best 32 at the World Cup ...\n",
      "Sentence 64: but it's a good compromise.\n",
      "Sentence 65: ...\n",
      "Sentence 66: It's a political matter so why not have more Africans?\n",
      "Sentence 67: The competition is to bring all the people of all the world.\n",
      "Sentence 68: If you don't give the possibility to participate, they don't improve.\n",
      "Sentence 69: \"[38]\n",
      "Sentence 70: In October 2016, FIFA president Gianni Infantino stated his support for a 48-team World Cup in 2026.[39]\n",
      "Sentence 71: On 10 January 2017, FIFA confirmed the 2026 World Cup will have 48 finalist teams.[40]\n",
      "Sentence 72: By May 2015, the games were under a particularly dark cloud because of the 2015 FIFA corruption case, allegations and criminal charges of bribery, fraud and money laundering to corrupt the issuing of media and marketing rights (rigged bids) for FIFA games,[41] with FIFA officials accused of taking bribes totaling more than $150 million over 24 years.\n",
      "Sentence 73: In late May, the U.S. Department of Justice announced a 47-count indictment with charges of racketeering, wire fraud and money laundering conspiracy against 14 people.\n",
      "Sentence 74: Arrests of over a dozen FIFA officials were made since that time, particularly on 29 May and 3 December.[42]\n",
      "Sentence 75: By the end of May 2015, a total of nine FIFA officials and five executives of sports and broadcasting markets had already been charged on corruption.\n",
      "Sentence 76: At the time, FIFA president Sepp Blatter announced he would relinquish his position in February 2016.[43]\n",
      "Sentence 77: On 4 June 2015, Chuck Blazer while co-operating with the FBI and the Swiss authorities admitted that he and the other members of FIFA's then-executive committee were bribed in order to promote the 1998 and 2010 World Cups.[44]\n",
      "Sentence 78: On 10 June 2015, Swiss authorities seized computer data from the offices of Sepp Blatter.[45]\n",
      "Sentence 79: The same day, FIFA postponed the bidding process for the 2026 FIFA World Cup in light of the allegations surrounding bribery in the awarding of the 2018 and 2022 tournaments.\n",
      "Sentence 80: Then-secretary general Jérôme Valcke stated, \"Due to the situation, I think it's nonsense to start any bidding process for the time being.\n",
      "Sentence 81: \"[46]\n",
      "Sentence 82: On 28 October 2015, Blatter and FIFA VP Michel Platini, a potential candidate for presidency, were suspended for 90 days; both maintained their innocence in statements made to the news media.[47]\n",
      "Sentence 83: On 3 December 2015 two FIFA vice-presidents were arrested on suspicion of bribery in the same Zurich hotel where seven FIFA officials had been arrested in May.[48] An additional 16 indictments by the US Department of Justice were announced on the same day.[49] A biennial World Cup plan was first proposed by the Saudi Arabian Football Federation at the 71st FIFA Congress on 21 May 2021 and prominently backed by former Arsenal manager Arsène Wenger and national federations in Africa and Asia.[50] Continental confederations such as UEFA and CONMEBOL are not on board with the plan[51][52] but, in total, the idea is supported by 166 of the 210 member associations of FIFA.[53] An equivalent tournament for women's football, the FIFA Women's World Cup, was first held in 1991 in China.[54]\n",
      "Sentence 84: The women's tournament is smaller in scale and profile than the men's, but is growing; the number of entrants for the 2007 tournament was 120, more than double that of 1991.[55] Men's football has been included in every Summer Olympic Games except 1896 and 1932.\n",
      "Sentence 85: Unlike many other sports, the men's football tournament at the Olympics is not a top-level tournament, and since 1992, an under-23 tournament with each team allowed three over-age players.[56] Women's football made its Olympic debut in 1996.\n",
      "Sentence 86: The FIFA Confederations Cup was a tournament held one year before the World Cup at the World Cup host nation(s) as a dress rehearsal for the upcoming World Cup.\n",
      "Sentence 87: It is contested by the winners of each of the six FIFA confederation championships, along with the FIFA World Cup champion and the host country.[57]\n",
      "Sentence 88: The first edition took place in 1992 and the last edition was played in 2017.\n",
      "Sentence 89: In March 2019, FIFA confirmed that the tournament would no longer be active owing to an expansion of the FIFA Club World Cup in 2021.[58] FIFA also organises international tournaments for youth football (FIFA U-20 World Cup, FIFA U-17 World Cup, FIFA U-20 Women's World Cup, FIFA U-17 Women's World Cup), club football (FIFA Club World Cup), and football variants such as futsal (FIFA Futsal World Cup) and beach soccer (FIFA Beach Soccer World Cup).\n",
      "Sentence 90: The latter three do not have a women's version, although a FIFA Women's Club World Cup has been proposed.[59]\n",
      "Sentence 91: The FIFA U-20 Women's World Cup is held biannually, including the year before each Women's World Cup.\n",
      "Sentence 92: Both tournaments were awarded in a single bidding process on three occasions, with the U-20 tournament serving as a dress rehearsal for the larger competition each time (2010, 2014 and 2018).[60]\n",
      "Sentence 93: From 1930 to 1970, the Jules Rimet Trophy was awarded to the World Cup winning team.\n",
      "Sentence 94: It was originally simply known as the World Cup or Coupe du Monde, but in 1946 it was renamed after the FIFA president Jules Rimet who set up the first tournament.\n",
      "Sentence 95: In 1970, Brazil's third victory in the tournament entitled them to keep the trophy permanently.\n",
      "Sentence 96: However, the trophy was stolen in 1983 and has never been recovered, apparently melted down by the thieves.[61]\n",
      "Sentence 97: After 1970, a new trophy, known as the FIFA World Cup Trophy, was designed.\n",
      "Sentence 98: The experts of FIFA, coming from seven countries, evaluated the 53 presented models, finally opting for the work of the Italian designer Silvio Gazzaniga.\n",
      "Sentence 99: The new trophy is 36 cm (14.2 in) high, made of solid 18 carat (75%) gold and weighs 6.175 kg (13.6 lb).[62]\n",
      "Sentence 100: The base contains two layers of semi-precious malachite while the bottom side of the trophy bears the engraved year and name of each FIFA World Cup winner since 1974.[62]\n",
      "Sentence 101: The description of the trophy by Gazzaniga was: \"The lines spring out from the base, rising in spirals, stretching out to receive the world.\n",
      "Sentence 102: From the remarkable dynamic tensions of the compact body of the sculpture rise the figures of two athletes at the stirring moment of victory.\n",
      "Sentence 103: \"[63]\n",
      "Sentence 104: This new trophy is not awarded to the winning nation permanently.\n",
      "Sentence 105: World Cup winners retain the trophy only until the post-match celebration is finished.\n",
      "Sentence 106: They are awarded a gold-plated replica rather than the solid gold original immediately afterwards.[64]\n",
      "Sentence 107: All members (players, coaches, and managers) of the top three teams receive medals with an insignia of the World Cup Trophy; winners' (gold), runners-up' (silver), and third-place (bronze).\n",
      "Sentence 108: In the 2002 edition, fourth-place medals were awarded to hosts South Korea.\n",
      "Sentence 109: Before the 1978 tournament, medals were only awarded to the eleven players on the pitch at the end of the final and the third-place match.\n",
      "Sentence 110: In November 2007, FIFA announced that all members of World Cup-winning squads between 1930 and 1974 were to be retroactively awarded winners' medals.[65][66][67] Since 2006, winners of the competition are also awarded the right to wear the FIFA Champions Badge, up until the time at which the winner of the next competition is decided.[68] Since the second World Cup in 1934, qualifying tournaments have been held to thin the field for the final tournament.[69]\n",
      "Sentence 111: They are held within the six FIFA continental zones (Africa, Asia, North and Central America and Caribbean, South America, Oceania, and Europe), overseen by their respective confederations.\n",
      "Sentence 112: For each tournament, FIFA decides the number of places awarded to each of the continental zones beforehand, generally based on the relative strength of the confederations' teams.\n",
      "Sentence 113: The qualification process can start as early as almost three years before the final tournament and last over a two-year period.\n",
      "Sentence 114: The formats of the qualification tournaments differ between confederations.\n",
      "Sentence 115: Usually, one or two places are awarded to winners of intercontinental play-offs.\n",
      "Sentence 116: For example, the winner of the Oceanian zone and the fifth-placed team from the Asian zone entered a play-off for a spot in the 2010 World Cup.[70] From the 1938 World Cup onwards, host nations receive automatic qualification to the final tournament.\n",
      "Sentence 117: This right was also granted to the defending champions between 1938 and 2002, but was withdrawn from the 2006 FIFA World Cup onward, requiring the champions to qualify.\n",
      "Sentence 118: Brazil, winners in 2002, were the first defending champions to play qualifying matches.[71]\n",
      "Sentence 119: The final tournament format since 1998 has had 32 national teams competing over the course of a month in the host nations.\n",
      "Sentence 120: There are two stages: the group stage, followed by the knockout stage.[72]\n",
      "Sentence 121: In the group stage, teams compete within eight groups of four teams each.\n",
      "Sentence 122: Eight teams are seeded, including the hosts, with the other seeded teams selected using a formula based on the FIFA World Rankings or performances in recent World Cups, and drawn to separate groups.[73]\n",
      "Sentence 123: The other teams are assigned to different \"pots\", usually based on geographical criteria, and teams in each pot are drawn at random to the eight groups.\n",
      "Sentence 124: Since 1998, constraints have been applied to the draw to ensure that no group contains more than two European teams or more than one team from any other confederation.[74] Each group plays a round-robin tournament in which each team is scheduled for three matches against other teams in the same group.\n",
      "Sentence 125: This means that a total of six matches are played within a group.\n",
      "Sentence 126: The last round of matches of each group is scheduled at the same time to preserve fairness among all four teams.[75] The top two teams from each group advance to the knockout stage.\n",
      "Sentence 127: Points are used to rank the teams within a group.\n",
      "Sentence 128: Since 1994, three points have been awarded for a win, one for a draw and none for a loss (before, winners received two points).\n",
      "Sentence 129: Considering six matches in a group each with three possible outcomes (win, draw, loss), there are 729 (= 36) possible final table outcomes for the 40 possible combinations of the four teams' points.[76] However, 14 of the 40 points combinations (or 207 of the 729 possible outcomes) lead to ties between the second and third places.\n",
      "Sentence 130: In such case, the ranking among these teams is determined by:[77]\n",
      "Sentence 131: The knockout stage is a single-elimination tournament in which teams play each other in one-off matches, with extra time and penalty shootouts used to decide the winner if necessary.\n",
      "Sentence 132: It begins with the round of 16 (or the second round) in which the winner of each group plays against the runner-up of another group.\n",
      "Sentence 133: This is followed by the quarter-finals, the semi-finals, the third-place match (contested by the losing semi-finalists), and the final.[72]\n",
      "Sentence 134: On 10 January 2017, FIFA approved a new format, the 48-team World Cup (to accommodate more teams), which was to consist of 16 groups of three teams each, with two teams qualifying from each group, to form a round of 32 knockout stage, to be implemented by 2026.[78]\n",
      "Sentence 135: On 14 March 2023, FIFA approved a revised format of the 2026 tournament, which features 12 groups of four teams each, with the top 8 third-placed teams joining the group winners and runners-up in a new round of 32.[79][80]\n",
      "Sentence 136: Early World Cups were given to countries at meetings of FIFA's congress.\n",
      "Sentence 137: The locations were controversial because South America and Europe were by far the two centres of strength in football and travel between them required three weeks by boat.\n",
      "Sentence 138: The decision to hold the first World Cup in Uruguay, for example, led to only four European nations competing.[81]\n",
      "Sentence 139: The next two World Cups were both held in Europe.\n",
      "Sentence 140: The decision to hold the second of these in France was disputed, as the South American countries understood that the location would alternate between the two continents.\n",
      "Sentence 141: Both Argentina and Uruguay thus boycotted the 1938 FIFA World Cup.[82]\n",
      "Sentence 142: Since the 1958 FIFA World Cup, to avoid future boycotts or controversy, FIFA began a pattern of alternating the hosts between the Americas and Europe, which continued until the 1998 FIFA World Cup.\n",
      "Sentence 143: The 2002 FIFA World Cup, hosted jointly by South Korea and Japan, was the first one held in Asia, and the first tournament with multiple hosts.[83] South Africa became the first African nation to host the World Cup in 2010.\n",
      "Sentence 144: The 2014 FIFA World Cup was hosted by Brazil, the first held in South America since Argentina 1978,[84] and was the first occasion where consecutive World Cups were held outside Europe.[85]\n",
      "Sentence 145: The host country is now chosen in a vote by FIFA's Council.\n",
      "Sentence 146: This is done under an exhaustive ballot system.\n",
      "Sentence 147: The national football association of a country desiring to host the event receives a \"Hosting Agreement\" from FIFA, which explains the steps and requirements that are expected from a strong bid.\n",
      "Sentence 148: The bidding association also receives a form, the submission of which represents the official confirmation of the candidacy.\n",
      "Sentence 149: After this, a FIFA designated group of inspectors visit the country to identify that the country meets the requirements needed to host the event and a report on the country is produced.\n",
      "Sentence 150: The decision on who will host the World Cup is usually made six or seven years in advance of the tournament.\n",
      "Sentence 151: There have been occasions where the hosts of multiple future tournaments were announced at the same time, as was the case for the 2018 and 2022 World Cups, which were awarded to Russia and Qatar, with Qatar becoming the first Middle Eastern country to host the tournament.[86][87]\n",
      "Sentence 152: For the 2010 and 2014 World Cups, the final tournament was rotated between confederations, allowing only countries from the chosen confederation (Africa in 2010, South America in 2014) to bid to host the tournament.\n",
      "Sentence 153: The rotation policy was introduced after the controversy surrounding Germany's victory over South Africa in the vote to host the 2006 tournament.\n",
      "Sentence 154: However, the policy of continental rotation did not continue beyond 2014, so any country, except those belonging to confederations that hosted the two preceding tournaments, can apply as hosts for World Cups starting from 2018.[88]\n",
      "Sentence 155: This is partly to avoid a similar scenario to the bidding process for the 2014 tournament, where Brazil was the only official bidder.[89]\n",
      "Sentence 156: The 2026 FIFA World Cup was chosen to be held in the United States, Canada and Mexico, marking the first time a World Cup has been shared by three host nations.[90] The 2026 tournament will be the biggest World Cup ever held, with 48 teams playing 104 matches.\n",
      "Sentence 157: Sixty matches will take place in the US, including all matches from the quarter-finals onward, while Canada and Mexico will host 10 games each.[90] Six of the eight champions have won one of their titles while playing in their own homeland, the exceptions being Brazil, who finished as runners-up after losing the deciding match on home soil in 1950 and lost their semi-final against Germany in 2014, and Spain, which reached the second round on home soil in 1982.\n",
      "Sentence 158: England (1966) won its only title while playing as a host nation.\n",
      "Sentence 159: Uruguay (1930), Italy (1934), Argentina (1978), and France (1998) won their first titles as host nations but have gone on to win again, while Germany (1974) won their second title on home soil.[91][92] Other nations have also been successful when hosting the tournament.\n",
      "Sentence 160: Switzerland (quarter-finals 1954), Sweden (runners-up in 1958), Chile (third place in 1962), South Korea (fourth place in 2002), Russia (quarter-finals 2018), and Mexico (quarter-finals in 1970 and 1986) all have their best results when serving as hosts.[92][93]\n",
      "Sentence 161: So far, South Africa (2010) and Qatar (2022) failed to advance beyond the first round.[94][95] † Source: FIFA[97] ‡\n",
      "Sentence 162: The best-attended single match has been the final in 12 of the 22 World Cups as of 2022[update].\n",
      "Sentence 163: Another match or matches drew more attendance than the final in 1930, 1938, 1958, 1962, 1970–1982, 1990, and 2006.\n",
      "Sentence 164: The World Cup was first televised in 1954 and as of 2006[update] is the most widely viewed and followed sporting event in the world.\n",
      "Sentence 165: The cumulative viewership of all matches of the 2006 World Cup was estimated to be 26.29 billion.[2] 715.1 million individuals watched the final match of the tournament, almost a ninth of the entire population of the planet.\n",
      "Sentence 166: The 2006 World Cup draw, which decided the distribution of teams into groups, was watched by 300 million viewers.[98]\n",
      "Sentence 167: The World Cup attracts major sponsors such as Coca-Cola, McDonald's and Adidas.\n",
      "Sentence 168: For these companies and many more, being a sponsor strongly impacts their global brands.\n",
      "Sentence 169: Host countries typically experience a multimillion-dollar revenue increase from the month-long event.\n",
      "Sentence 170: The governing body of the sport, FIFA, generated $4.8 billion in revenue from the 2014 tournament,[99] and $6.1 billion from the 2018 tournament.[100] Each FIFA World Cup since 1966 has its own mascot or logo.\n",
      "Sentence 171: World Cup Willie, the mascot for the 1966 competition, was the first World Cup mascot.[101] World Cups feature official match balls specially designed for each tournament.\n",
      "Sentence 172: After Slazenger produced the ball for the 1966 World Cup Adidas became the official supplier to FIFA.[102] Each World Cup also has an official song, which have been performed by artists ranging from Shakira to Will Smith.[103][104] Other songs, such as “Nessun dorma”, performed by The Three Tenors at four World Cup concerts, have also become identified with the tournament.[105]\n",
      "Sentence 173: Forming a partnership with FIFA in 1970, Panini published its first sticker album for the 1970 World Cup.[106]\n",
      "Sentence 174: Since then, collecting and trading stickers and cards has become part of the World Cup experience, especially for the younger generation.[107] FIFA has licensed World Cup video games since 1986, sponsored by Electronic Arts.[106]\n",
      "Sentence 175: In all, 80 nations have played in at least one World Cup.[a]\n",
      "Sentence 176: Of these, eight national teams have won the World Cup,[115] and they have added stars to their badges, with each star representing a World Cup victory.\n",
      "Sentence 177: Uruguay, however, chose to display four stars on their badge, representing their two gold medals at the 1924 and 1928 Summer Olympics, which are recognized by FIFA as World Championships, and their two World Cup titles in 1930 and 1950.\n",
      "Sentence 178: With five titles, Brazil are the most successful World Cup team and also the only nation to have played in every World Cup (22) to date.[116]\n",
      "Sentence 179: Brazil were also the first team to win the World Cup for the third (1970), fourth (1994) and fifth (2002) time.\n",
      "Sentence 180: Italy (1934 and 1938) and Brazil (1958 and 1962) are the only nations to have won consecutive titles.\n",
      "Sentence 181: West Germany (1982–1990) and Brazil (1994–2002) are the only nations to appear in three consecutive World Cup finals.\n",
      "Sentence 182: Germany has made the most top-four finishes (13), medals (12), as well as the most finals (8).\n",
      "Sentence 183: To date, the final of the World Cup has only been contested by teams from the UEFA (Europe) and CONMEBOL (South America) confederations.\n",
      "Sentence 184: European nations have won twelve titles, while South American nations have won ten.\n",
      "Sentence 185: Only three teams from outside these two continents have ever reached the semi-finals of the competition: United States (North, Central America and Caribbean) in 1930; South Korea (Asia) in 2002; and Morocco (Africa) in 2022.\n",
      "Sentence 186: Only one Oceanian qualifier, Australia in 2006, has advanced to the second round, a feat they later reaccomplished in 2022.[b] Brazil, Argentina, Spain and Germany are the only teams to win a World Cup hosted outside their continental confederation; Brazil came out victorious in Europe (1958), North America (1970 and 1994) and Asia (2002).\n",
      "Sentence 187: Argentina won a World Cup in North America in 1986 and in Asia in 2022.\n",
      "Sentence 188: Spain won in Africa in 2010.\n",
      "Sentence 189: In 2014, Germany became the first European team to win in the Americas.\n",
      "Sentence 190: Only on five occasions have consecutive World Cups been won by teams from the same continent; the longest streak of tournaments won by a single confederation is four, with the 2006, 2010, 2014, and 2018 tournaments all won by UEFA teams (Italy, Spain, Germany, and France, respectively).\n",
      "Sentence 191: Six players share the record for playing in the most World Cups; Mexico's Antonio Carbajal (1950–1966).\n",
      "Sentence 192: Rafael Márquez (2002–2018), and Andrés Guardado (2006–2022); Germany's Lothar Matthäus (1982–1998); Argentina's Lionel Messi (2006–2022); and Portugal's Cristiano Ronaldo (2006–2022) all played in five tournaments, with Ronaldo also being the first and only player to score in five tournaments.[117][118] Messi has played the most World Cup matches overall, with 26 appearances.[119] Brazil's Djalma Santos (1954–1962), West Germany's Franz Beckenbauer (1966–1974), and Germany's Philipp Lahm (2006–2014) are the only players to be named to three World Cup All-Star Teams.[120] Miroslav Klose of Germany (2002–2014) is the all-time top scorer at the World Cup with 16 goals.\n",
      "Sentence 193: He broke Ronaldo of Brazil's record of 15 goals (1998–2006) during the 2014 semi-final match against Brazil.\n",
      "Sentence 194: West Germany's Gerd Müller (1970–1974) is third, with 14 goals.[121]\n",
      "Sentence 195: The fourth-placed goalscorer, France's Just Fontaine, holds the record for the most goals scored in a single World Cup; all his 13 goals were scored in the 1958 tournament.[122]\n",
      "Sentence 196: In November 2007, FIFA announced that all members of World Cup-winning squads between 1930 and 1974 were to be retroactively awarded winners' medals.[65]\n",
      "Sentence 197: This made Brazil's Pelé the only player to have won three World Cup winners' medals (1958, 1962, and 1970, although he did not play in the 1962 final due to injury),[123] with 20 other players who have won two winners' medals.\n",
      "Sentence 198: Seven players have collected all three types of World Cup medals (winners', runner- ups', and third-place); five players were from West Germany's squad of 1966–1974: Franz Beckenbauer, Jürgen Grabowski, Horst-Dieter Höttges, Sepp Maier, and Wolfgang Overath (1966–1974), Italy's Franco Baresi (1982, 1990, 1994) and the most recent has been Miroslav Klose of Germany (2002–2014) with four consecutive medals.[124] Brazil's Mário Zagallo, West Germany's Franz Beckenbauer and France's Didier Deschamps are the only people to date to win the World Cup as both player and head coach.\n",
      "Sentence 199: Zagallo won in 1958 and 1962 as a player and in 1970 as head coach.[125]\n",
      "Sentence 200: Beckenbauer won in 1974 as captain and in 1990 as head coach,[126] and Deschamps repeated the feat in 2018, after having won in 1998 as captain.[127] Italy's Vittorio Pozzo is the only head coach to ever win two World Cups (1934 and 1938).[128]\n",
      "Sentence 201: All World Cup-winning head coaches were natives of the country they coached to victory.[129]\n",
      "Sentence 202: Among the national teams, Brazil has played the most World Cup matches (114), Germany appeared in the most finals (8), semi-finals (13), and quarter-finals (16), while Brazil has appeared in the most World Cups (22), has the most wins (76) and has scored the most goals (237).[130][131]\n",
      "Sentence 203: The two teams have played each other twice in the World Cup, in the 2002 final and in the 2014 semi-final.[132] Players in bold are still active.\n",
      "Sentence 204: At the end of each World Cup, awards are presented to the players and teams for accomplishments other than their final team positions in the tournament.\n"
     ]
    }
   ],
   "source": [
    "#individual sentences\n",
    "\n",
    "sentences = [sent.text for sent in doc.sents]\n",
    "\n",
    "for i, sentence in enumerate(sentences, 1):\n",
    "    print(f\"Sentence {i}: {sentence}\")\n"
   ]
  },
  {
   "cell_type": "code",
   "execution_count": 6,
   "id": "7a81d043",
   "metadata": {},
   "outputs": [
    {
     "name": "stdout",
     "output_type": "stream",
     "text": [
      "The tournament has been held every four years since the inaugural tournament in 1930, with the exception of 1942 and 1946 due to the Second World War.\n"
     ]
    }
   ],
   "source": [
    "print(sentences[1])"
   ]
  },
  {
   "cell_type": "code",
   "execution_count": 6,
   "id": "a12ffa0a",
   "metadata": {},
   "outputs": [
    {
     "name": "stdout",
     "output_type": "stream",
     "text": [
      "The FIFA World Cup, often called the World Cup, is an international association football competition among the senior men's national teams of the members of the Fédération Internationale de Football Association (FIFA), the sport's global governing body.\n",
      "The tournament has been held every four years since the inaugural tournament in 1930, with the exception of 1942 and 1946 due to the Second World War.\n",
      "The reigning champions are Argentina, who won their third title at the 2022 tournament.[1]\n",
      "The contest starts with the qualification phase, which takes place over the preceding three years to determine which teams qualify for the tournament phase.\n",
      "In the tournament phase, 32 teams compete for the title at venues within the host nation(s) over the course of about a month.\n",
      "The host nation(s) automatically qualify for the group stage of the tournament.\n",
      "The competition is scheduled to expand to 48 teams, starting with the 2026 tournament.\n",
      "As of the 2022 FIFA World Cup, 22 final tournaments have been held since the event's inception in 1930, and a total of 80 national teams have competed.\n",
      "The trophy has been won by eight national teams.\n",
      "With five wins, Brazil is the only team to have played in every tournament.\n",
      "The other World Cup winners are Germany and Italy, with four titles each; Argentina, with three titles; France and inaugural winner Uruguay, each with two titles; and England and Spain, with one title each.\n",
      "The World Cup is the most prestigious association football competition in the world, as well as the most widely viewed and followed sporting event in the world.[2][3] The viewership of the 2018 World Cup was estimated to be 3.57 billion, close to half of the global population,[4][5] while the engagement with the 2022 World Cup was estimated to be 5 billion, with about 1.5 billion people watching the final match.[6] Seventeen countries have hosted the World Cup, most recently Qatar, who hosted the 2022 event.\n",
      "The 2026 tournament will be jointly hosted by Canada, the United States and Mexico, which will give Mexico the distinction of being the first country to host games in three World Cups.\n",
      "The world's first international football match was a challenge match played in Glasgow in 1872 between Scotland and England.[7] The first international tournament for nations, the inaugural British Home Championship, took place in 1884 and included games between England, Scotland, Wales, and Ireland.[8]\n",
      "As football grew in popularity in other parts of the world at the start of the 20th century, it was held as a demonstration sport with no medals awarded at the 1900 and 1904 Summer Olympics; however, the International Olympic Committee has retroactively upgraded their status to official events, as well as the 1906 Intercalated Games.[9]\n",
      "After FIFA was founded in 1904, it tried to arrange an international football tournament between nations outside the Olympic framework in Switzerland in 1906.\n",
      "These were very early days for international football, and the official history of FIFA describes the competition as having been unsuccessful.[10] At the 1908 Summer Olympics in London, football became an official Olympic sport.\n",
      "Planned by The Football Association (FA), England's football governing body, the event was for amateur players only and was regarded suspiciously as a show rather than a competition.\n",
      "Great Britain (represented by the England national amateur football team) won the gold medals.\n",
      "They repeated the feat at the 1912 Summer Olympics in Stockholm.[11] With the Olympic event continuing to be a contest between amateur teams only, Sir Thomas Lipton organised the Sir Thomas Lipton Trophy tournament in Turin in 1909.\n"
     ]
    }
   ],
   "source": [
    "#print only first 20 sentences\n",
    "\n",
    "for sentence in sentences[0:20]:\n",
    "    print(sentence)"
   ]
  },
  {
   "cell_type": "code",
   "execution_count": 17,
   "id": "f82aff82",
   "metadata": {},
   "outputs": [
    {
     "data": {
      "text/html": [
       "<div>\n",
       "<style scoped>\n",
       "    .dataframe tbody tr th:only-of-type {\n",
       "        vertical-align: middle;\n",
       "    }\n",
       "\n",
       "    .dataframe tbody tr th {\n",
       "        vertical-align: top;\n",
       "    }\n",
       "\n",
       "    .dataframe thead th {\n",
       "        text-align: right;\n",
       "    }\n",
       "</style>\n",
       "<table border=\"1\" class=\"dataframe\">\n",
       "  <thead>\n",
       "    <tr style=\"text-align: right;\">\n",
       "      <th></th>\n",
       "      <th>Sentence</th>\n",
       "    </tr>\n",
       "  </thead>\n",
       "  <tbody>\n",
       "    <tr>\n",
       "      <th>0</th>\n",
       "      <td>The FIFA World Cup, often called the World Cup...</td>\n",
       "    </tr>\n",
       "    <tr>\n",
       "      <th>1</th>\n",
       "      <td>The tournament has been held every four years ...</td>\n",
       "    </tr>\n",
       "    <tr>\n",
       "      <th>2</th>\n",
       "      <td>The reigning champions are Argentina, who won ...</td>\n",
       "    </tr>\n",
       "    <tr>\n",
       "      <th>3</th>\n",
       "      <td>The contest starts with the qualification phas...</td>\n",
       "    </tr>\n",
       "    <tr>\n",
       "      <th>4</th>\n",
       "      <td>In the tournament phase, 32 teams compete for ...</td>\n",
       "    </tr>\n",
       "  </tbody>\n",
       "</table>\n",
       "</div>"
      ],
      "text/plain": [
       "                                            Sentence\n",
       "0  The FIFA World Cup, often called the World Cup...\n",
       "1  The tournament has been held every four years ...\n",
       "2  The reigning champions are Argentina, who won ...\n",
       "3  The contest starts with the qualification phas...\n",
       "4  In the tournament phase, 32 teams compete for ..."
      ]
     },
     "execution_count": 17,
     "metadata": {},
     "output_type": "execute_result"
    }
   ],
   "source": [
    "#create a dataframe from 20 sentences\n",
    "\n",
    "import pandas as pd\n",
    "\n",
    "first_20 = sentences[0:20]\n",
    "\n",
    "df_s = pd.DataFrame(first_20, columns=['Sentence'])\n",
    "df_s.head()\n"
   ]
  },
  {
   "cell_type": "code",
   "execution_count": 11,
   "id": "ed63ba64",
   "metadata": {},
   "outputs": [
    {
     "data": {
      "text/html": [
       "<style>#sk-container-id-2 {color: black;background-color: white;}#sk-container-id-2 pre{padding: 0;}#sk-container-id-2 div.sk-toggleable {background-color: white;}#sk-container-id-2 label.sk-toggleable__label {cursor: pointer;display: block;width: 100%;margin-bottom: 0;padding: 0.3em;box-sizing: border-box;text-align: center;}#sk-container-id-2 label.sk-toggleable__label-arrow:before {content: \"▸\";float: left;margin-right: 0.25em;color: #696969;}#sk-container-id-2 label.sk-toggleable__label-arrow:hover:before {color: black;}#sk-container-id-2 div.sk-estimator:hover label.sk-toggleable__label-arrow:before {color: black;}#sk-container-id-2 div.sk-toggleable__content {max-height: 0;max-width: 0;overflow: hidden;text-align: left;background-color: #f0f8ff;}#sk-container-id-2 div.sk-toggleable__content pre {margin: 0.2em;color: black;border-radius: 0.25em;background-color: #f0f8ff;}#sk-container-id-2 input.sk-toggleable__control:checked~div.sk-toggleable__content {max-height: 200px;max-width: 100%;overflow: auto;}#sk-container-id-2 input.sk-toggleable__control:checked~label.sk-toggleable__label-arrow:before {content: \"▾\";}#sk-container-id-2 div.sk-estimator input.sk-toggleable__control:checked~label.sk-toggleable__label {background-color: #d4ebff;}#sk-container-id-2 div.sk-label input.sk-toggleable__control:checked~label.sk-toggleable__label {background-color: #d4ebff;}#sk-container-id-2 input.sk-hidden--visually {border: 0;clip: rect(1px 1px 1px 1px);clip: rect(1px, 1px, 1px, 1px);height: 1px;margin: -1px;overflow: hidden;padding: 0;position: absolute;width: 1px;}#sk-container-id-2 div.sk-estimator {font-family: monospace;background-color: #f0f8ff;border: 1px dotted black;border-radius: 0.25em;box-sizing: border-box;margin-bottom: 0.5em;}#sk-container-id-2 div.sk-estimator:hover {background-color: #d4ebff;}#sk-container-id-2 div.sk-parallel-item::after {content: \"\";width: 100%;border-bottom: 1px solid gray;flex-grow: 1;}#sk-container-id-2 div.sk-label:hover label.sk-toggleable__label {background-color: #d4ebff;}#sk-container-id-2 div.sk-serial::before {content: \"\";position: absolute;border-left: 1px solid gray;box-sizing: border-box;top: 0;bottom: 0;left: 50%;z-index: 0;}#sk-container-id-2 div.sk-serial {display: flex;flex-direction: column;align-items: center;background-color: white;padding-right: 0.2em;padding-left: 0.2em;position: relative;}#sk-container-id-2 div.sk-item {position: relative;z-index: 1;}#sk-container-id-2 div.sk-parallel {display: flex;align-items: stretch;justify-content: center;background-color: white;position: relative;}#sk-container-id-2 div.sk-item::before, #sk-container-id-2 div.sk-parallel-item::before {content: \"\";position: absolute;border-left: 1px solid gray;box-sizing: border-box;top: 0;bottom: 0;left: 50%;z-index: -1;}#sk-container-id-2 div.sk-parallel-item {display: flex;flex-direction: column;z-index: 1;position: relative;background-color: white;}#sk-container-id-2 div.sk-parallel-item:first-child::after {align-self: flex-end;width: 50%;}#sk-container-id-2 div.sk-parallel-item:last-child::after {align-self: flex-start;width: 50%;}#sk-container-id-2 div.sk-parallel-item:only-child::after {width: 0;}#sk-container-id-2 div.sk-dashed-wrapped {border: 1px dashed gray;margin: 0 0.4em 0.5em 0.4em;box-sizing: border-box;padding-bottom: 0.4em;background-color: white;}#sk-container-id-2 div.sk-label label {font-family: monospace;font-weight: bold;display: inline-block;line-height: 1.2em;}#sk-container-id-2 div.sk-label-container {text-align: center;}#sk-container-id-2 div.sk-container {/* jupyter's `normalize.less` sets `[hidden] { display: none; }` but bootstrap.min.css set `[hidden] { display: none !important; }` so we also need the `!important` here to be able to override the default hidden behavior on the sphinx rendered scikit-learn.org. See: https://github.com/scikit-learn/scikit-learn/issues/21755 */display: inline-block !important;position: relative;}#sk-container-id-2 div.sk-text-repr-fallback {display: none;}</style><div id=\"sk-container-id-2\" class=\"sk-top-container\"><div class=\"sk-text-repr-fallback\"><pre>NMF(n_components=10, random_state=42)</pre><b>In a Jupyter environment, please rerun this cell to show the HTML representation or trust the notebook. <br />On GitHub, the HTML representation is unable to render, please try loading this page with nbviewer.org.</b></div><div class=\"sk-container\" hidden><div class=\"sk-item\"><div class=\"sk-estimator sk-toggleable\"><input class=\"sk-toggleable__control sk-hidden--visually\" id=\"sk-estimator-id-2\" type=\"checkbox\" checked><label for=\"sk-estimator-id-2\" class=\"sk-toggleable__label sk-toggleable__label-arrow\">NMF</label><div class=\"sk-toggleable__content\"><pre>NMF(n_components=10, random_state=42)</pre></div></div></div></div></div>"
      ],
      "text/plain": [
       "NMF(n_components=10, random_state=42)"
      ]
     },
     "execution_count": 11,
     "metadata": {},
     "output_type": "execute_result"
    }
   ],
   "source": [
    "#Finding the most common words in 10 topics\n",
    "\n",
    "from sklearn.feature_extraction.text import TfidfVectorizer\n",
    "tfidf = TfidfVectorizer(max_df=0.95, min_df=2, stop_words='english')\n",
    "dtm = tfidf.fit_transform(df_s['Sentence'])\n",
    "\n",
    "from sklearn.decomposition import NMF\n",
    "nmf_model = NMF(n_components=10,random_state=42)\n",
    "nmf_model.fit(dtm)"
   ]
  },
  {
   "cell_type": "code",
   "execution_count": 13,
   "id": "0100ccd1",
   "metadata": {},
   "outputs": [
    {
     "name": "stdout",
     "output_type": "stream",
     "text": [
      "THE TOP 10 WORDS FOR TOPIC #0\n",
      "['olympics', 'summer', 'sport', 'fifa', '1906', '1904', 'football', 'olympic', 'international', 'official']\n",
      "\n",
      "\n",
      "THE TOP 10 WORDS FOR TOPIC #1\n",
      "['1904', 'games', 'hosted', 'teams', 'title', 'phase', 'tournament', 'qualify', 'host', 'nation']\n",
      "\n",
      "\n",
      "THE TOP 10 WORDS FOR TOPIC #2\n",
      "['national', 'hosted', 'held', '1930', 'fifa', 'event', 'final', '2022', 'cup', 'world']\n",
      "\n",
      "\n",
      "THE TOP 10 WORDS FOR TOPIC #3\n",
      "['football', 'england', '2022', 'amateur', 'team', 'medals', 'teams', 'trophy', 'national', 'won']\n",
      "\n",
      "\n",
      "THE TOP 10 WORDS FOR TOPIC #4\n",
      "['match', 'world', 'tournament', 'cup', 'won', '2022', 'england', 'inaugural', 'title', 'argentina']\n",
      "\n",
      "\n",
      "THE TOP 10 WORDS FOR TOPIC #5\n",
      "['global', 'fifa', 'event', 'competition', 'amateur', 'england', 'governing', 'body', 'association', 'football']\n",
      "\n",
      "\n",
      "THE TOP 10 WORDS FOR TOPIC #6\n",
      "['england', 'match', 'world', 'host', 'teams', 'games', 'hosted', 'competition', 'tournament', '2026']\n",
      "\n",
      "\n",
      "THE TOP 10 WORDS FOR TOPIC #7\n",
      "['inaugural', 'teams', 'held', 'qualify', '1930', 'contest', 'place', 'tournament', 'years', 'phase']\n",
      "\n",
      "\n",
      "THE TOP 10 WORDS FOR TOPIC #8\n",
      "['medals', 'place', 'inaugural', 'nations', 'international', 'match', 'england', 'tournament', 'played', 'team']\n",
      "\n",
      "\n",
      "THE TOP 10 WORDS FOR TOPIC #9\n",
      "['official', 'tournament', 'teams', 'olympic', 'event', 'amateur', 'olympics', 'summer', 'contest', 'trophy']\n",
      "\n",
      "\n"
     ]
    }
   ],
   "source": [
    "for index,topic in enumerate(nmf_model.components_):\n",
    "    print(f'THE TOP 10 WORDS FOR TOPIC #{index}')\n",
    "    print([tfidf.get_feature_names_out()[i] for i in topic.argsort()[-10:]])\n",
    "    print('\\n')"
   ]
  },
  {
   "cell_type": "code",
   "execution_count": 16,
   "id": "4a81bf0d",
   "metadata": {},
   "outputs": [
    {
     "data": {
      "text/html": [
       "<div>\n",
       "<style scoped>\n",
       "    .dataframe tbody tr th:only-of-type {\n",
       "        vertical-align: middle;\n",
       "    }\n",
       "\n",
       "    .dataframe tbody tr th {\n",
       "        vertical-align: top;\n",
       "    }\n",
       "\n",
       "    .dataframe thead th {\n",
       "        text-align: right;\n",
       "    }\n",
       "</style>\n",
       "<table border=\"1\" class=\"dataframe\">\n",
       "  <thead>\n",
       "    <tr style=\"text-align: right;\">\n",
       "      <th></th>\n",
       "      <th>Sentence</th>\n",
       "      <th>Topic</th>\n",
       "    </tr>\n",
       "  </thead>\n",
       "  <tbody>\n",
       "    <tr>\n",
       "      <th>0</th>\n",
       "      <td>The FIFA World Cup, often called the World Cup...</td>\n",
       "      <td>5</td>\n",
       "    </tr>\n",
       "    <tr>\n",
       "      <th>1</th>\n",
       "      <td>The tournament has been held every four years ...</td>\n",
       "      <td>7</td>\n",
       "    </tr>\n",
       "    <tr>\n",
       "      <th>2</th>\n",
       "      <td>The reigning champions are Argentina, who won ...</td>\n",
       "      <td>4</td>\n",
       "    </tr>\n",
       "    <tr>\n",
       "      <th>3</th>\n",
       "      <td>The contest starts with the qualification phas...</td>\n",
       "      <td>7</td>\n",
       "    </tr>\n",
       "    <tr>\n",
       "      <th>4</th>\n",
       "      <td>In the tournament phase, 32 teams compete for ...</td>\n",
       "      <td>1</td>\n",
       "    </tr>\n",
       "    <tr>\n",
       "      <th>5</th>\n",
       "      <td>The host nation(s) automatically qualify for t...</td>\n",
       "      <td>1</td>\n",
       "    </tr>\n",
       "    <tr>\n",
       "      <th>6</th>\n",
       "      <td>The competition is scheduled to expand to 48 t...</td>\n",
       "      <td>6</td>\n",
       "    </tr>\n",
       "    <tr>\n",
       "      <th>7</th>\n",
       "      <td>As of the 2022 FIFA World Cup, 22 final tourna...</td>\n",
       "      <td>2</td>\n",
       "    </tr>\n",
       "    <tr>\n",
       "      <th>8</th>\n",
       "      <td>The trophy has been won by eight national teams.</td>\n",
       "      <td>3</td>\n",
       "    </tr>\n",
       "    <tr>\n",
       "      <th>9</th>\n",
       "      <td>With five wins, Brazil is the only team to hav...</td>\n",
       "      <td>8</td>\n",
       "    </tr>\n",
       "  </tbody>\n",
       "</table>\n",
       "</div>"
      ],
      "text/plain": [
       "                                            Sentence  Topic\n",
       "0  The FIFA World Cup, often called the World Cup...      5\n",
       "1  The tournament has been held every four years ...      7\n",
       "2  The reigning champions are Argentina, who won ...      4\n",
       "3  The contest starts with the qualification phas...      7\n",
       "4  In the tournament phase, 32 teams compete for ...      1\n",
       "5  The host nation(s) automatically qualify for t...      1\n",
       "6  The competition is scheduled to expand to 48 t...      6\n",
       "7  As of the 2022 FIFA World Cup, 22 final tourna...      2\n",
       "8   The trophy has been won by eight national teams.      3\n",
       "9  With five wins, Brazil is the only team to hav...      8"
      ]
     },
     "execution_count": 16,
     "metadata": {},
     "output_type": "execute_result"
    }
   ],
   "source": [
    "topic_results = nmf_model.transform(dtm)\n",
    "topic_results.argmax(axis=1)\n",
    "\n",
    "df_s['Topic'] = topic_results.argmax(axis=1)\n",
    "\n",
    "df_s.head(10)"
   ]
  },
  {
   "cell_type": "code",
   "execution_count": 8,
   "id": "76e07e4d",
   "metadata": {},
   "outputs": [
    {
     "name": "stdout",
     "output_type": "stream",
     "text": [
      "The tournament\n",
      "the inaugural tournament\n",
      "the exception\n",
      "the Second World War\n"
     ]
    }
   ],
   "source": [
    "#noun chunks\n",
    "\n",
    "for chunk in nlp(sentences[1]).noun_chunks:\n",
    "    print(chunk)"
   ]
  },
  {
   "cell_type": "code",
   "execution_count": 9,
   "id": "62e8b2a3",
   "metadata": {},
   "outputs": [
    {
     "name": "stdout",
     "output_type": "stream",
     "text": [
      "{'Lipton Trophy': 1, 'Argentina': 9, 'Brazil': 21, 'World Cup': 89, 'football': 25}\n"
     ]
    }
   ],
   "source": [
    "#word instances\n",
    "words_to_count = ['Lipton Trophy', 'Argentina', 'Brazil', 'World Cup', 'football']\n",
    "counts = {word: sum(1 for sent in doc.sents if word.lower() in sent.text.lower()) for word in words_to_count}\n",
    "\n",
    "print(counts)"
   ]
  },
  {
   "cell_type": "code",
   "execution_count": 10,
   "id": "fad55c00",
   "metadata": {},
   "outputs": [],
   "source": [
    "doc1=nlp(sentences[1])"
   ]
  },
  {
   "cell_type": "code",
   "execution_count": 11,
   "id": "bff2c672",
   "metadata": {},
   "outputs": [
    {
     "name": "stdout",
     "output_type": "stream",
     "text": [
      "The tournament has been held every four years since the inaugural tournament in 1930, with the exception of 1942 and 1946 due to the Second World War.\n"
     ]
    }
   ],
   "source": [
    "print(doc1.text)"
   ]
  },
  {
   "cell_type": "code",
   "execution_count": 14,
   "id": "cb0fb141",
   "metadata": {},
   "outputs": [],
   "source": [
    "def show_ents(doc):\n",
    "    if doc.ents:\n",
    "        for ent in doc.ents:\n",
    "            label_description = spacy.explain(ent.label_)\n",
    "            print(f\"{ent.text} - {ent.label_} - {label_description}\")\n",
    "    else:\n",
    "        print('No entities found')"
   ]
  },
  {
   "cell_type": "code",
   "execution_count": 15,
   "id": "c52cec97",
   "metadata": {},
   "outputs": [
    {
     "name": "stdout",
     "output_type": "stream",
     "text": [
      "every four years - DATE - Absolute or relative dates or periods\n",
      "1930 - DATE - Absolute or relative dates or periods\n",
      "1942 - DATE - Absolute or relative dates or periods\n",
      "1946 - DATE - Absolute or relative dates or periods\n",
      "the Second World War - EVENT - Named hurricanes, battles, wars, sports events, etc.\n"
     ]
    }
   ],
   "source": [
    "show_ents(doc1)"
   ]
  },
  {
   "cell_type": "code",
   "execution_count": 16,
   "id": "4f23a79e",
   "metadata": {},
   "outputs": [
    {
     "name": "stdout",
     "output_type": "stream",
     "text": [
      "held VERB VBN verb, past participle\n"
     ]
    }
   ],
   "source": [
    "print(doc1[4].text, doc1[4].pos_, doc1[4].tag_, spacy.explain(doc1[4].tag_))"
   ]
  },
  {
   "cell_type": "code",
   "execution_count": 17,
   "id": "5b51b694",
   "metadata": {},
   "outputs": [
    {
     "name": "stdout",
     "output_type": "stream",
     "text": [
      "FIFA - ORG - Companies, agencies, institutions, etc.\n",
      "$4.8 billion - MONEY - Monetary values, including unit\n",
      "2014 - DATE - Absolute or relative dates or periods\n",
      "$6.1 billion - MONEY - Monetary values, including unit\n",
      "2018 - DATE - Absolute or relative dates or periods\n",
      "1966 - DATE - Absolute or relative dates or periods\n"
     ]
    }
   ],
   "source": [
    "show_ents(nlp(sentences[169]))"
   ]
  },
  {
   "cell_type": "code",
   "execution_count": 18,
   "id": "5e5ed0cd",
   "metadata": {},
   "outputs": [
    {
     "name": "stdout",
     "output_type": "stream",
     "text": [
      "The          DET    DT     determiner\n",
      "reigning     VERB   VBG    verb, gerund or present participle\n",
      "champions    NOUN   NNS    noun, plural\n",
      "are          AUX    VBP    verb, non-3rd person singular present\n",
      "Argentina    PROPN  NNP    noun, proper singular\n",
      ",            PUNCT  ,      punctuation mark, comma\n",
      "who          PRON   WP     wh-pronoun, personal\n",
      "won          VERB   VBD    verb, past tense\n",
      "their        PRON   PRP$   pronoun, possessive\n",
      "third        ADJ    JJ     adjective (English), other noun-modifier (Chinese)\n",
      "title        NOUN   NN     noun, singular or mass\n",
      "at           ADP    IN     conjunction, subordinating or preposition\n",
      "the          DET    DT     determiner\n",
      "2022         NUM    CD     cardinal number\n",
      "tournament.[1 NUM    CD     cardinal number\n",
      "]            PUNCT  -RRB-  right round bracket\n"
     ]
    }
   ],
   "source": [
    "for token in list(doc.sents)[2]:\n",
    "    print(f'{token.text:{12}} {token.pos_:{6}} {token.tag_:{6}} {spacy.explain(token.tag_)}')"
   ]
  },
  {
   "cell_type": "code",
   "execution_count": 19,
   "id": "d05bbde3",
   "metadata": {},
   "outputs": [
    {
     "data": {
      "text/html": [
       "<span class=\"tex2jax_ignore\"><div class=\"entities\" style=\"line-height: 2.5; direction: ltr\">The tournament has been held \n",
       "<mark class=\"entity\" style=\"background: #bfe1d9; padding: 0.45em 0.6em; margin: 0 0.25em; line-height: 1; border-radius: 0.35em;\">\n",
       "    every four years\n",
       "    <span style=\"font-size: 0.8em; font-weight: bold; line-height: 1; border-radius: 0.35em; vertical-align: middle; margin-left: 0.5rem\">DATE</span>\n",
       "</mark>\n",
       " since the inaugural tournament in \n",
       "<mark class=\"entity\" style=\"background: #bfe1d9; padding: 0.45em 0.6em; margin: 0 0.25em; line-height: 1; border-radius: 0.35em;\">\n",
       "    1930\n",
       "    <span style=\"font-size: 0.8em; font-weight: bold; line-height: 1; border-radius: 0.35em; vertical-align: middle; margin-left: 0.5rem\">DATE</span>\n",
       "</mark>\n",
       ", with the exception of \n",
       "<mark class=\"entity\" style=\"background: #bfe1d9; padding: 0.45em 0.6em; margin: 0 0.25em; line-height: 1; border-radius: 0.35em;\">\n",
       "    1942\n",
       "    <span style=\"font-size: 0.8em; font-weight: bold; line-height: 1; border-radius: 0.35em; vertical-align: middle; margin-left: 0.5rem\">DATE</span>\n",
       "</mark>\n",
       " and \n",
       "<mark class=\"entity\" style=\"background: #bfe1d9; padding: 0.45em 0.6em; margin: 0 0.25em; line-height: 1; border-radius: 0.35em;\">\n",
       "    1946\n",
       "    <span style=\"font-size: 0.8em; font-weight: bold; line-height: 1; border-radius: 0.35em; vertical-align: middle; margin-left: 0.5rem\">DATE</span>\n",
       "</mark>\n",
       " due to \n",
       "<mark class=\"entity\" style=\"background: #ffeb80; padding: 0.45em 0.6em; margin: 0 0.25em; line-height: 1; border-radius: 0.35em;\">\n",
       "    the Second World War\n",
       "    <span style=\"font-size: 0.8em; font-weight: bold; line-height: 1; border-radius: 0.35em; vertical-align: middle; margin-left: 0.5rem\">EVENT</span>\n",
       "</mark>\n",
       ".</div></span>"
      ],
      "text/plain": [
       "<IPython.core.display.HTML object>"
      ]
     },
     "metadata": {},
     "output_type": "display_data"
    }
   ],
   "source": [
    "displacy.render(doc1, style='ent', jupyter=True)"
   ]
  },
  {
   "cell_type": "markdown",
   "id": "f7b9b8d3",
   "metadata": {},
   "source": [
    "Sentence before and after the first instance of the word 'Argentina'"
   ]
  },
  {
   "cell_type": "code",
   "execution_count": 20,
   "id": "221ef955",
   "metadata": {
    "scrolled": true
   },
   "outputs": [
    {
     "name": "stdout",
     "output_type": "stream",
     "text": [
      "Context around the first occurrence of 'Argentina':\n",
      "\n",
      "The tournament has been held every four years since the inaugural tournament in 1930, with the exception of 1942 and 1946 due to the Second World War.\n",
      "The reigning champions are Argentina, who won their third title at the 2022 tournament.[1]\n",
      "The contest starts with the qualification phase, which takes place over the preceding three years to determine which teams qualify for the tournament phase.\n"
     ]
    }
   ],
   "source": [
    "target_index = None\n",
    "for i, sentence in enumerate(sentences):\n",
    "    if 'argentina' in sentence.lower():  \n",
    "        target_index = i\n",
    "        break\n",
    "\n",
    "if target_index is not None:\n",
    "   \n",
    "    start = max(0, target_index - 1) \n",
    "    end = min(len(sentences), target_index + 2)  \n",
    "    context = sentences[start:end]\n",
    "\n",
    "    print(\"Context around the first occurrence of 'Argentina':\\n\")\n",
    "    for sent in context:\n",
    "        print(sent)"
   ]
  },
  {
   "cell_type": "code",
   "execution_count": 21,
   "id": "9c0a4771",
   "metadata": {},
   "outputs": [
    {
     "name": "stdout",
     "output_type": "stream",
     "text": [
      "Sentence: The tournament has been held every four years since the inaugural tournament in 1930, with the exception of 1942 and 1946 due to the Second World War.\n",
      "Polarity Scores: {'neg': 0.13, 'neu': 0.87, 'pos': 0.0, 'compound': -0.5994}\n",
      "Sentence: The reigning champions are Argentina, who won their third title at the 2022 tournament.[1]\n",
      "Polarity Scores: {'neg': 0.0, 'neu': 0.628, 'pos': 0.372, 'compound': 0.7964}\n",
      "Sentence: The contest starts with the qualification phase, which takes place over the preceding three years to determine which teams qualify for the tournament phase.\n",
      "Polarity Scores: {'neg': 0.0, 'neu': 1.0, 'pos': 0.0, 'compound': 0.0}\n",
      "Sentence: In the tournament phase, 32 teams compete for the title at venues within the host nation(s) over the course of about a month.\n",
      "Polarity Scores: {'neg': 0.0, 'neu': 1.0, 'pos': 0.0, 'compound': 0.0}\n"
     ]
    }
   ],
   "source": [
    "from nltk.sentiment.vader import SentimentIntensityAnalyzer\n",
    "analyzer = SentimentIntensityAnalyzer()\n",
    "\n",
    "for sentence in sentences[1:5]:  \n",
    "    scores = analyzer.polarity_scores(sentence)\n",
    "    print(f\"Sentence: {sentence}\")\n",
    "    print(f\"Polarity Scores: {scores}\")"
   ]
  },
  {
   "cell_type": "code",
   "execution_count": 22,
   "id": "1fa6c3fe",
   "metadata": {},
   "outputs": [
    {
     "name": "stdout",
     "output_type": "stream",
     "text": [
      "      neg    neu    pos  compound  \\\n",
      "0    0.00  1.000  0.000    0.0000   \n",
      "1    0.13  0.870  0.000   -0.5994   \n",
      "2    0.00  0.628  0.372    0.7964   \n",
      "3    0.00  1.000  0.000    0.0000   \n",
      "4    0.00  1.000  0.000    0.0000   \n",
      "..    ...    ...    ...       ...   \n",
      "199  0.00  0.781  0.219    0.9042   \n",
      "200  0.00  1.000  0.000    0.0000   \n",
      "201  0.00  0.876  0.124    0.7501   \n",
      "202  0.00  0.757  0.243    0.7717   \n",
      "203  0.00  0.893  0.107    0.4588   \n",
      "\n",
      "                                              sentence  \n",
      "0    The tournament has been held every four years ...  \n",
      "1    The reigning champions are Argentina, who won ...  \n",
      "2    The contest starts with the qualification phas...  \n",
      "3    In the tournament phase, 32 teams compete for ...  \n",
      "4    The host nation(s) automatically qualify for t...  \n",
      "..                                                 ...  \n",
      "199  All World Cup-winning head coaches were native...  \n",
      "200  Among the national teams, Brazil has played th...  \n",
      "201  The two teams have played each other twice in ...  \n",
      "202  At the end of each World Cup, awards are prese...  \n",
      "203                                                NaN  \n",
      "\n",
      "[204 rows x 5 columns]\n"
     ]
    }
   ],
   "source": [
    "import pandas as pd\n",
    "\n",
    "analyzer = SentimentIntensityAnalyzer()\n",
    "\n",
    "\n",
    "output_data = []\n",
    "\n",
    "\n",
    "for sentence in sentences: \n",
    "    scores['sentence'] = sentence\n",
    "    scores = analyzer.polarity_scores(sentence) \n",
    "      \n",
    "    output_data.append(scores)  \n",
    "\n",
    "\n",
    "df_scores = pd.DataFrame(output_data)\n",
    "\n",
    "print(df_scores)"
   ]
  },
  {
   "cell_type": "code",
   "execution_count": 23,
   "id": "539df807",
   "metadata": {},
   "outputs": [
    {
     "data": {
      "text/html": [
       "<div>\n",
       "<style scoped>\n",
       "    .dataframe tbody tr th:only-of-type {\n",
       "        vertical-align: middle;\n",
       "    }\n",
       "\n",
       "    .dataframe tbody tr th {\n",
       "        vertical-align: top;\n",
       "    }\n",
       "\n",
       "    .dataframe thead th {\n",
       "        text-align: right;\n",
       "    }\n",
       "</style>\n",
       "<table border=\"1\" class=\"dataframe\">\n",
       "  <thead>\n",
       "    <tr style=\"text-align: right;\">\n",
       "      <th></th>\n",
       "      <th>sentence</th>\n",
       "      <th>neg</th>\n",
       "      <th>neu</th>\n",
       "      <th>pos</th>\n",
       "      <th>compound</th>\n",
       "    </tr>\n",
       "  </thead>\n",
       "  <tbody>\n",
       "    <tr>\n",
       "      <th>0</th>\n",
       "      <td>The tournament has been held every four years ...</td>\n",
       "      <td>0.00</td>\n",
       "      <td>1.000</td>\n",
       "      <td>0.000</td>\n",
       "      <td>0.0000</td>\n",
       "    </tr>\n",
       "    <tr>\n",
       "      <th>1</th>\n",
       "      <td>The reigning champions are Argentina, who won ...</td>\n",
       "      <td>0.13</td>\n",
       "      <td>0.870</td>\n",
       "      <td>0.000</td>\n",
       "      <td>-0.5994</td>\n",
       "    </tr>\n",
       "    <tr>\n",
       "      <th>2</th>\n",
       "      <td>The contest starts with the qualification phas...</td>\n",
       "      <td>0.00</td>\n",
       "      <td>0.628</td>\n",
       "      <td>0.372</td>\n",
       "      <td>0.7964</td>\n",
       "    </tr>\n",
       "    <tr>\n",
       "      <th>3</th>\n",
       "      <td>In the tournament phase, 32 teams compete for ...</td>\n",
       "      <td>0.00</td>\n",
       "      <td>1.000</td>\n",
       "      <td>0.000</td>\n",
       "      <td>0.0000</td>\n",
       "    </tr>\n",
       "    <tr>\n",
       "      <th>4</th>\n",
       "      <td>The host nation(s) automatically qualify for t...</td>\n",
       "      <td>0.00</td>\n",
       "      <td>1.000</td>\n",
       "      <td>0.000</td>\n",
       "      <td>0.0000</td>\n",
       "    </tr>\n",
       "  </tbody>\n",
       "</table>\n",
       "</div>"
      ],
      "text/plain": [
       "                                            sentence   neg    neu    pos  \\\n",
       "0  The tournament has been held every four years ...  0.00  1.000  0.000   \n",
       "1  The reigning champions are Argentina, who won ...  0.13  0.870  0.000   \n",
       "2  The contest starts with the qualification phas...  0.00  0.628  0.372   \n",
       "3  In the tournament phase, 32 teams compete for ...  0.00  1.000  0.000   \n",
       "4  The host nation(s) automatically qualify for t...  0.00  1.000  0.000   \n",
       "\n",
       "   compound  \n",
       "0    0.0000  \n",
       "1   -0.5994  \n",
       "2    0.7964  \n",
       "3    0.0000  \n",
       "4    0.0000  "
      ]
     },
     "execution_count": 23,
     "metadata": {},
     "output_type": "execute_result"
    }
   ],
   "source": [
    "df_scores = df_scores[['sentence', 'neg', 'neu', 'pos', 'compound']] \n",
    "df_scores.head()"
   ]
  },
  {
   "cell_type": "code",
   "execution_count": 24,
   "id": "db98979a",
   "metadata": {},
   "outputs": [
    {
     "data": {
      "text/plain": [
       "'The contest starts with the qualification phase, which takes place over the preceding three years to determine which teams qualify for the tournament phase.'"
      ]
     },
     "execution_count": 24,
     "metadata": {},
     "output_type": "execute_result"
    }
   ],
   "source": [
    "df_scores['sentence'][2]"
   ]
  },
  {
   "cell_type": "code",
   "execution_count": 43,
   "id": "ca8ae684",
   "metadata": {},
   "outputs": [
    {
     "data": {
      "text/html": [
       "<div>\n",
       "<style scoped>\n",
       "    .dataframe tbody tr th:only-of-type {\n",
       "        vertical-align: middle;\n",
       "    }\n",
       "\n",
       "    .dataframe tbody tr th {\n",
       "        vertical-align: top;\n",
       "    }\n",
       "\n",
       "    .dataframe thead th {\n",
       "        text-align: right;\n",
       "    }\n",
       "</style>\n",
       "<table border=\"1\" class=\"dataframe\">\n",
       "  <thead>\n",
       "    <tr style=\"text-align: right;\">\n",
       "      <th></th>\n",
       "      <th>sentence</th>\n",
       "      <th>neg</th>\n",
       "      <th>neu</th>\n",
       "      <th>pos</th>\n",
       "      <th>compound</th>\n",
       "      <th>final_score</th>\n",
       "    </tr>\n",
       "  </thead>\n",
       "  <tbody>\n",
       "    <tr>\n",
       "      <th>0</th>\n",
       "      <td>The tournament has been held every four years ...</td>\n",
       "      <td>0.00</td>\n",
       "      <td>1.000</td>\n",
       "      <td>0.000</td>\n",
       "      <td>0.0000</td>\n",
       "      <td>neutral</td>\n",
       "    </tr>\n",
       "    <tr>\n",
       "      <th>1</th>\n",
       "      <td>The reigning champions are Argentina, who won ...</td>\n",
       "      <td>0.13</td>\n",
       "      <td>0.870</td>\n",
       "      <td>0.000</td>\n",
       "      <td>-0.5994</td>\n",
       "      <td>negative</td>\n",
       "    </tr>\n",
       "    <tr>\n",
       "      <th>2</th>\n",
       "      <td>The contest starts with the qualification phas...</td>\n",
       "      <td>0.00</td>\n",
       "      <td>0.628</td>\n",
       "      <td>0.372</td>\n",
       "      <td>0.7964</td>\n",
       "      <td>positive</td>\n",
       "    </tr>\n",
       "    <tr>\n",
       "      <th>3</th>\n",
       "      <td>In the tournament phase, 32 teams compete for ...</td>\n",
       "      <td>0.00</td>\n",
       "      <td>1.000</td>\n",
       "      <td>0.000</td>\n",
       "      <td>0.0000</td>\n",
       "      <td>neutral</td>\n",
       "    </tr>\n",
       "    <tr>\n",
       "      <th>4</th>\n",
       "      <td>The host nation(s) automatically qualify for t...</td>\n",
       "      <td>0.00</td>\n",
       "      <td>1.000</td>\n",
       "      <td>0.000</td>\n",
       "      <td>0.0000</td>\n",
       "      <td>neutral</td>\n",
       "    </tr>\n",
       "  </tbody>\n",
       "</table>\n",
       "</div>"
      ],
      "text/plain": [
       "                                            sentence   neg    neu    pos  \\\n",
       "0  The tournament has been held every four years ...  0.00  1.000  0.000   \n",
       "1  The reigning champions are Argentina, who won ...  0.13  0.870  0.000   \n",
       "2  The contest starts with the qualification phas...  0.00  0.628  0.372   \n",
       "3  In the tournament phase, 32 teams compete for ...  0.00  1.000  0.000   \n",
       "4  The host nation(s) automatically qualify for t...  0.00  1.000  0.000   \n",
       "\n",
       "   compound final_score  \n",
       "0    0.0000     neutral  \n",
       "1   -0.5994    negative  \n",
       "2    0.7964    positive  \n",
       "3    0.0000     neutral  \n",
       "4    0.0000     neutral  "
      ]
     },
     "execution_count": 43,
     "metadata": {},
     "output_type": "execute_result"
    }
   ],
   "source": [
    "df_scores['final_score'] = df_scores['compound'].apply(lambda c: 'positive' if c > 0 else 'neutral' if c == 0 else 'negative')\n",
    "\n",
    "df_scores.head()"
   ]
  },
  {
   "cell_type": "code",
   "execution_count": 46,
   "id": "35314285",
   "metadata": {},
   "outputs": [
    {
     "name": "stdout",
     "output_type": "stream",
     "text": [
      "Enter some text (or type 'stop' to quit): Indian celebrated diwali with fervour\n",
      "rating is:Positive\n",
      "Enter some text (or type 'stop' to quit): India and china are neighbours\n",
      "rating is:Neutral\n",
      "Enter some text (or type 'stop' to quit): stop\n"
     ]
    }
   ],
   "source": [
    "def review_rating(string):\n",
    "    scores = analyzer.polarity_scores(string)\n",
    "    if scores['compound'] == 0:\n",
    "        return 'Neutral'\n",
    "    elif scores['compound'] > 0:\n",
    "        return 'Positive'\n",
    "    else:\n",
    "        return 'Negative'\n",
    "    \n",
    "while True:   \n",
    "    user_input = input(\"Enter some text (or type 'stop' to quit): \")\n",
    "    if user_input.lower() == 'stop':\n",
    "        break\n",
    "    s=review_rating(user_input)\n",
    "    print(f\"rating is:{s}\")\n",
    "    "
   ]
  },
  {
   "cell_type": "code",
   "execution_count": 47,
   "id": "9dddf359",
   "metadata": {},
   "outputs": [
    {
     "data": {
      "image/png": "[encoded data removed]",
      "text/plain": [
       "<Figure size 640x480 with 1 Axes>"
      ]
     },
     "metadata": {},
     "output_type": "display_data"
    }
   ],
   "source": [
    "import matplotlib.pyplot as plt\n",
    "df_scores['final_score'].value_counts().plot.pie()\n",
    "\n",
    "plt.title(\"Text Categories\")\n",
    "plt.show()\n",
    "\n"
   ]
  },
  {
   "cell_type": "markdown",
   "id": "27745cc7",
   "metadata": {},
   "source": [
    "Excercise"
   ]
  },
  {
   "cell_type": "code",
   "execution_count": 6,
   "id": "69ca0964",
   "metadata": {},
   "outputs": [
    {
     "data": {
      "text/html": [
       "<div>\n",
       "<style scoped>\n",
       "    .dataframe tbody tr th:only-of-type {\n",
       "        vertical-align: middle;\n",
       "    }\n",
       "\n",
       "    .dataframe tbody tr th {\n",
       "        vertical-align: top;\n",
       "    }\n",
       "\n",
       "    .dataframe thead th {\n",
       "        text-align: right;\n",
       "    }\n",
       "</style>\n",
       "<table border=\"1\" class=\"dataframe\">\n",
       "  <thead>\n",
       "    <tr style=\"text-align: right;\">\n",
       "      <th></th>\n",
       "      <th>reviewText</th>\n",
       "      <th>Positive</th>\n",
       "    </tr>\n",
       "  </thead>\n",
       "  <tbody>\n",
       "    <tr>\n",
       "      <th>0</th>\n",
       "      <td>This is a one of the best apps acording to a b...</td>\n",
       "      <td>1</td>\n",
       "    </tr>\n",
       "    <tr>\n",
       "      <th>1</th>\n",
       "      <td>This is a pretty good version of the game for ...</td>\n",
       "      <td>1</td>\n",
       "    </tr>\n",
       "    <tr>\n",
       "      <th>2</th>\n",
       "      <td>this is a really cool game. there are a bunch ...</td>\n",
       "      <td>1</td>\n",
       "    </tr>\n",
       "    <tr>\n",
       "      <th>3</th>\n",
       "      <td>This is a silly game and can be frustrating, b...</td>\n",
       "      <td>1</td>\n",
       "    </tr>\n",
       "    <tr>\n",
       "      <th>4</th>\n",
       "      <td>This is a terrific game on any pad. Hrs of fun...</td>\n",
       "      <td>1</td>\n",
       "    </tr>\n",
       "  </tbody>\n",
       "</table>\n",
       "</div>"
      ],
      "text/plain": [
       "                                          reviewText  Positive\n",
       "0  This is a one of the best apps acording to a b...         1\n",
       "1  This is a pretty good version of the game for ...         1\n",
       "2  this is a really cool game. there are a bunch ...         1\n",
       "3  This is a silly game and can be frustrating, b...         1\n",
       "4  This is a terrific game on any pad. Hrs of fun...         1"
      ]
     },
     "execution_count": 6,
     "metadata": {},
     "output_type": "execute_result"
    }
   ],
   "source": [
    "import pandas as pd\n",
    "df=pd.read_csv('https://raw.githubusercontent.com/pycaret/pycaret/master/datasets/amazon.csv')\n",
    "df.head()"
   ]
  },
  {
   "cell_type": "code",
   "execution_count": 49,
   "id": "fe6572bb",
   "metadata": {},
   "outputs": [
    {
     "data": {
      "text/plain": [
       "1    15233\n",
       "0     4767\n",
       "Name: Positive, dtype: int64"
      ]
     },
     "execution_count": 49,
     "metadata": {},
     "output_type": "execute_result"
    }
   ],
   "source": [
    "df['Positive'].value_counts()"
   ]
  },
  {
   "cell_type": "code",
   "execution_count": 12,
   "id": "dbb4587f",
   "metadata": {},
   "outputs": [],
   "source": [
    "df.dropna(inplace=True)"
   ]
  },
  {
   "cell_type": "code",
   "execution_count": 13,
   "id": "0ff09c3c",
   "metadata": {},
   "outputs": [],
   "source": [
    "import nltk\n",
    "from nltk.sentiment.vader import SentimentIntensityAnalyzer\n",
    "sen=SentimentIntensityAnalyzer()"
   ]
  },
  {
   "cell_type": "code",
   "execution_count": 15,
   "id": "8f371227",
   "metadata": {},
   "outputs": [
    {
     "data": {
      "text/html": [
       "<div>\n",
       "<style scoped>\n",
       "    .dataframe tbody tr th:only-of-type {\n",
       "        vertical-align: middle;\n",
       "    }\n",
       "\n",
       "    .dataframe tbody tr th {\n",
       "        vertical-align: top;\n",
       "    }\n",
       "\n",
       "    .dataframe thead th {\n",
       "        text-align: right;\n",
       "    }\n",
       "</style>\n",
       "<table border=\"1\" class=\"dataframe\">\n",
       "  <thead>\n",
       "    <tr style=\"text-align: right;\">\n",
       "      <th></th>\n",
       "      <th>reviewText</th>\n",
       "      <th>Positive</th>\n",
       "      <th>scores</th>\n",
       "    </tr>\n",
       "  </thead>\n",
       "  <tbody>\n",
       "    <tr>\n",
       "      <th>0</th>\n",
       "      <td>This is a one of the best apps acording to a b...</td>\n",
       "      <td>1</td>\n",
       "      <td>{'neg': 0.0, 'neu': 0.774, 'pos': 0.226, 'comp...</td>\n",
       "    </tr>\n",
       "    <tr>\n",
       "      <th>1</th>\n",
       "      <td>This is a pretty good version of the game for ...</td>\n",
       "      <td>1</td>\n",
       "      <td>{'neg': 0.0, 'neu': 0.571, 'pos': 0.429, 'comp...</td>\n",
       "    </tr>\n",
       "    <tr>\n",
       "      <th>2</th>\n",
       "      <td>this is a really cool game. there are a bunch ...</td>\n",
       "      <td>1</td>\n",
       "      <td>{'neg': 0.0, 'neu': 0.605, 'pos': 0.395, 'comp...</td>\n",
       "    </tr>\n",
       "    <tr>\n",
       "      <th>3</th>\n",
       "      <td>This is a silly game and can be frustrating, b...</td>\n",
       "      <td>1</td>\n",
       "      <td>{'neg': 0.062, 'neu': 0.41, 'pos': 0.528, 'com...</td>\n",
       "    </tr>\n",
       "    <tr>\n",
       "      <th>4</th>\n",
       "      <td>This is a terrific game on any pad. Hrs of fun...</td>\n",
       "      <td>1</td>\n",
       "      <td>{'neg': 0.0, 'neu': 0.478, 'pos': 0.522, 'comp...</td>\n",
       "    </tr>\n",
       "  </tbody>\n",
       "</table>\n",
       "</div>"
      ],
      "text/plain": [
       "                                          reviewText  Positive  \\\n",
       "0  This is a one of the best apps acording to a b...         1   \n",
       "1  This is a pretty good version of the game for ...         1   \n",
       "2  this is a really cool game. there are a bunch ...         1   \n",
       "3  This is a silly game and can be frustrating, b...         1   \n",
       "4  This is a terrific game on any pad. Hrs of fun...         1   \n",
       "\n",
       "                                              scores  \n",
       "0  {'neg': 0.0, 'neu': 0.774, 'pos': 0.226, 'comp...  \n",
       "1  {'neg': 0.0, 'neu': 0.571, 'pos': 0.429, 'comp...  \n",
       "2  {'neg': 0.0, 'neu': 0.605, 'pos': 0.395, 'comp...  \n",
       "3  {'neg': 0.062, 'neu': 0.41, 'pos': 0.528, 'com...  \n",
       "4  {'neg': 0.0, 'neu': 0.478, 'pos': 0.522, 'comp...  "
      ]
     },
     "execution_count": 15,
     "metadata": {},
     "output_type": "execute_result"
    }
   ],
   "source": [
    "df['scores'] = df['reviewText'].apply(lambda review: sen.polarity_scores(review))\n",
    "\n",
    "df.head()"
   ]
  },
  {
   "cell_type": "code",
   "execution_count": 16,
   "id": "8ccf19e3",
   "metadata": {},
   "outputs": [
    {
     "data": {
      "text/html": [
       "<div>\n",
       "<style scoped>\n",
       "    .dataframe tbody tr th:only-of-type {\n",
       "        vertical-align: middle;\n",
       "    }\n",
       "\n",
       "    .dataframe tbody tr th {\n",
       "        vertical-align: top;\n",
       "    }\n",
       "\n",
       "    .dataframe thead th {\n",
       "        text-align: right;\n",
       "    }\n",
       "</style>\n",
       "<table border=\"1\" class=\"dataframe\">\n",
       "  <thead>\n",
       "    <tr style=\"text-align: right;\">\n",
       "      <th></th>\n",
       "      <th>reviewText</th>\n",
       "      <th>Positive</th>\n",
       "      <th>scores</th>\n",
       "      <th>compound</th>\n",
       "    </tr>\n",
       "  </thead>\n",
       "  <tbody>\n",
       "    <tr>\n",
       "      <th>0</th>\n",
       "      <td>This is a one of the best apps acording to a b...</td>\n",
       "      <td>1</td>\n",
       "      <td>{'neg': 0.0, 'neu': 0.774, 'pos': 0.226, 'comp...</td>\n",
       "      <td>0.7717</td>\n",
       "    </tr>\n",
       "    <tr>\n",
       "      <th>1</th>\n",
       "      <td>This is a pretty good version of the game for ...</td>\n",
       "      <td>1</td>\n",
       "      <td>{'neg': 0.0, 'neu': 0.571, 'pos': 0.429, 'comp...</td>\n",
       "      <td>0.9325</td>\n",
       "    </tr>\n",
       "    <tr>\n",
       "      <th>2</th>\n",
       "      <td>this is a really cool game. there are a bunch ...</td>\n",
       "      <td>1</td>\n",
       "      <td>{'neg': 0.0, 'neu': 0.605, 'pos': 0.395, 'comp...</td>\n",
       "      <td>0.8687</td>\n",
       "    </tr>\n",
       "    <tr>\n",
       "      <th>3</th>\n",
       "      <td>This is a silly game and can be frustrating, b...</td>\n",
       "      <td>1</td>\n",
       "      <td>{'neg': 0.062, 'neu': 0.41, 'pos': 0.528, 'com...</td>\n",
       "      <td>0.9413</td>\n",
       "    </tr>\n",
       "    <tr>\n",
       "      <th>4</th>\n",
       "      <td>This is a terrific game on any pad. Hrs of fun...</td>\n",
       "      <td>1</td>\n",
       "      <td>{'neg': 0.0, 'neu': 0.478, 'pos': 0.522, 'comp...</td>\n",
       "      <td>0.9552</td>\n",
       "    </tr>\n",
       "  </tbody>\n",
       "</table>\n",
       "</div>"
      ],
      "text/plain": [
       "                                          reviewText  Positive  \\\n",
       "0  This is a one of the best apps acording to a b...         1   \n",
       "1  This is a pretty good version of the game for ...         1   \n",
       "2  this is a really cool game. there are a bunch ...         1   \n",
       "3  This is a silly game and can be frustrating, b...         1   \n",
       "4  This is a terrific game on any pad. Hrs of fun...         1   \n",
       "\n",
       "                                              scores  compound  \n",
       "0  {'neg': 0.0, 'neu': 0.774, 'pos': 0.226, 'comp...    0.7717  \n",
       "1  {'neg': 0.0, 'neu': 0.571, 'pos': 0.429, 'comp...    0.9325  \n",
       "2  {'neg': 0.0, 'neu': 0.605, 'pos': 0.395, 'comp...    0.8687  \n",
       "3  {'neg': 0.062, 'neu': 0.41, 'pos': 0.528, 'com...    0.9413  \n",
       "4  {'neg': 0.0, 'neu': 0.478, 'pos': 0.522, 'comp...    0.9552  "
      ]
     },
     "execution_count": 16,
     "metadata": {},
     "output_type": "execute_result"
    }
   ],
   "source": [
    "df['compound']  = df['scores'].apply(lambda score_dict: score_dict['compound'])\n",
    "\n",
    "df.head()"
   ]
  },
  {
   "cell_type": "code",
   "execution_count": 17,
   "id": "7fc75fb6",
   "metadata": {},
   "outputs": [
    {
     "data": {
      "text/html": [
       "<div>\n",
       "<style scoped>\n",
       "    .dataframe tbody tr th:only-of-type {\n",
       "        vertical-align: middle;\n",
       "    }\n",
       "\n",
       "    .dataframe tbody tr th {\n",
       "        vertical-align: top;\n",
       "    }\n",
       "\n",
       "    .dataframe thead th {\n",
       "        text-align: right;\n",
       "    }\n",
       "</style>\n",
       "<table border=\"1\" class=\"dataframe\">\n",
       "  <thead>\n",
       "    <tr style=\"text-align: right;\">\n",
       "      <th></th>\n",
       "      <th>reviewText</th>\n",
       "      <th>Positive</th>\n",
       "      <th>scores</th>\n",
       "      <th>compound</th>\n",
       "      <th>comp_score</th>\n",
       "    </tr>\n",
       "  </thead>\n",
       "  <tbody>\n",
       "    <tr>\n",
       "      <th>0</th>\n",
       "      <td>This is a one of the best apps acording to a b...</td>\n",
       "      <td>1</td>\n",
       "      <td>{'neg': 0.0, 'neu': 0.774, 'pos': 0.226, 'comp...</td>\n",
       "      <td>0.7717</td>\n",
       "      <td>1</td>\n",
       "    </tr>\n",
       "    <tr>\n",
       "      <th>1</th>\n",
       "      <td>This is a pretty good version of the game for ...</td>\n",
       "      <td>1</td>\n",
       "      <td>{'neg': 0.0, 'neu': 0.571, 'pos': 0.429, 'comp...</td>\n",
       "      <td>0.9325</td>\n",
       "      <td>1</td>\n",
       "    </tr>\n",
       "    <tr>\n",
       "      <th>2</th>\n",
       "      <td>this is a really cool game. there are a bunch ...</td>\n",
       "      <td>1</td>\n",
       "      <td>{'neg': 0.0, 'neu': 0.605, 'pos': 0.395, 'comp...</td>\n",
       "      <td>0.8687</td>\n",
       "      <td>1</td>\n",
       "    </tr>\n",
       "    <tr>\n",
       "      <th>3</th>\n",
       "      <td>This is a silly game and can be frustrating, b...</td>\n",
       "      <td>1</td>\n",
       "      <td>{'neg': 0.062, 'neu': 0.41, 'pos': 0.528, 'com...</td>\n",
       "      <td>0.9413</td>\n",
       "      <td>1</td>\n",
       "    </tr>\n",
       "    <tr>\n",
       "      <th>4</th>\n",
       "      <td>This is a terrific game on any pad. Hrs of fun...</td>\n",
       "      <td>1</td>\n",
       "      <td>{'neg': 0.0, 'neu': 0.478, 'pos': 0.522, 'comp...</td>\n",
       "      <td>0.9552</td>\n",
       "      <td>1</td>\n",
       "    </tr>\n",
       "  </tbody>\n",
       "</table>\n",
       "</div>"
      ],
      "text/plain": [
       "                                          reviewText  Positive  \\\n",
       "0  This is a one of the best apps acording to a b...         1   \n",
       "1  This is a pretty good version of the game for ...         1   \n",
       "2  this is a really cool game. there are a bunch ...         1   \n",
       "3  This is a silly game and can be frustrating, b...         1   \n",
       "4  This is a terrific game on any pad. Hrs of fun...         1   \n",
       "\n",
       "                                              scores  compound  comp_score  \n",
       "0  {'neg': 0.0, 'neu': 0.774, 'pos': 0.226, 'comp...    0.7717           1  \n",
       "1  {'neg': 0.0, 'neu': 0.571, 'pos': 0.429, 'comp...    0.9325           1  \n",
       "2  {'neg': 0.0, 'neu': 0.605, 'pos': 0.395, 'comp...    0.8687           1  \n",
       "3  {'neg': 0.062, 'neu': 0.41, 'pos': 0.528, 'com...    0.9413           1  \n",
       "4  {'neg': 0.0, 'neu': 0.478, 'pos': 0.522, 'comp...    0.9552           1  "
      ]
     },
     "execution_count": 17,
     "metadata": {},
     "output_type": "execute_result"
    }
   ],
   "source": [
    "df['comp_score'] = df['compound'].apply(lambda c: 1 if c >=0 else 0)\n",
    "\n",
    "df.head()"
   ]
  },
  {
   "cell_type": "code",
   "execution_count": 18,
   "id": "4a815a9e",
   "metadata": {},
   "outputs": [],
   "source": [
    "from sklearn.metrics import accuracy_score,classification_report,confusion_matrix"
   ]
  },
  {
   "cell_type": "code",
   "execution_count": 19,
   "id": "86a11018",
   "metadata": {},
   "outputs": [
    {
     "data": {
      "text/plain": [
       "0.82175"
      ]
     },
     "execution_count": 19,
     "metadata": {},
     "output_type": "execute_result"
    }
   ],
   "source": [
    "accuracy_score(df['Positive'],df['comp_score'])"
   ]
  },
  {
   "cell_type": "code",
   "execution_count": 20,
   "id": "3db81bb3",
   "metadata": {},
   "outputs": [
    {
     "name": "stdout",
     "output_type": "stream",
     "text": [
      "              precision    recall  f1-score   support\n",
      "\n",
      "           0       0.66      0.52      0.58      4767\n",
      "           1       0.86      0.92      0.89     15233\n",
      "\n",
      "    accuracy                           0.82     20000\n",
      "   macro avg       0.76      0.72      0.73     20000\n",
      "weighted avg       0.81      0.82      0.81     20000\n",
      "\n"
     ]
    }
   ],
   "source": [
    "print(classification_report(df['Positive'],df['comp_score']))"
   ]
  },
  {
   "cell_type": "code",
   "execution_count": 21,
   "id": "5c8145ec",
   "metadata": {},
   "outputs": [],
   "source": [
    "import pandas as pd\n",
    "df2=pd.read_csv(r'C:\\UNNI\\Analytics\\data\\trial\\nlp\\chat_dataset.csv')"
   ]
  },
  {
   "cell_type": "code",
   "execution_count": 22,
   "id": "5a5ed7c3",
   "metadata": {},
   "outputs": [
    {
     "data": {
      "text/html": [
       "<div>\n",
       "<style scoped>\n",
       "    .dataframe tbody tr th:only-of-type {\n",
       "        vertical-align: middle;\n",
       "    }\n",
       "\n",
       "    .dataframe tbody tr th {\n",
       "        vertical-align: top;\n",
       "    }\n",
       "\n",
       "    .dataframe thead th {\n",
       "        text-align: right;\n",
       "    }\n",
       "</style>\n",
       "<table border=\"1\" class=\"dataframe\">\n",
       "  <thead>\n",
       "    <tr style=\"text-align: right;\">\n",
       "      <th></th>\n",
       "      <th>message</th>\n",
       "      <th>sentiment</th>\n",
       "    </tr>\n",
       "  </thead>\n",
       "  <tbody>\n",
       "    <tr>\n",
       "      <th>0</th>\n",
       "      <td>I really enjoyed the movie</td>\n",
       "      <td>positive</td>\n",
       "    </tr>\n",
       "    <tr>\n",
       "      <th>1</th>\n",
       "      <td>The food was terrible</td>\n",
       "      <td>negative</td>\n",
       "    </tr>\n",
       "    <tr>\n",
       "      <th>2</th>\n",
       "      <td>I'm not sure how I feel about this</td>\n",
       "      <td>neutral</td>\n",
       "    </tr>\n",
       "    <tr>\n",
       "      <th>3</th>\n",
       "      <td>The service was excellent</td>\n",
       "      <td>positive</td>\n",
       "    </tr>\n",
       "    <tr>\n",
       "      <th>4</th>\n",
       "      <td>I had a bad experience</td>\n",
       "      <td>negative</td>\n",
       "    </tr>\n",
       "  </tbody>\n",
       "</table>\n",
       "</div>"
      ],
      "text/plain": [
       "                              message sentiment\n",
       "0          I really enjoyed the movie  positive\n",
       "1               The food was terrible  negative\n",
       "2  I'm not sure how I feel about this   neutral\n",
       "3           The service was excellent  positive\n",
       "4              I had a bad experience  negative"
      ]
     },
     "execution_count": 22,
     "metadata": {},
     "output_type": "execute_result"
    }
   ],
   "source": [
    "df2.head()"
   ]
  },
  {
   "cell_type": "code",
   "execution_count": 24,
   "id": "8943d467",
   "metadata": {},
   "outputs": [],
   "source": [
    "df2.dropna(inplace=True)"
   ]
  },
  {
   "cell_type": "code",
   "execution_count": 25,
   "id": "c46c711b",
   "metadata": {},
   "outputs": [
    {
     "data": {
      "text/plain": [
       "neutral     259\n",
       "positive    178\n",
       "negative    147\n",
       "Name: sentiment, dtype: int64"
      ]
     },
     "execution_count": 25,
     "metadata": {},
     "output_type": "execute_result"
    }
   ],
   "source": [
    "df2['sentiment'].value_counts()"
   ]
  },
  {
   "cell_type": "code",
   "execution_count": 27,
   "id": "39159146",
   "metadata": {},
   "outputs": [],
   "source": [
    "from nltk.sentiment.vader import SentimentIntensityAnalyzer\n",
    "\n",
    "sent = SentimentIntensityAnalyzer()"
   ]
  },
  {
   "cell_type": "code",
   "execution_count": 28,
   "id": "08ce52ab",
   "metadata": {},
   "outputs": [],
   "source": [
    "df2['scores'] = df2['message'].apply(lambda review: sent.polarity_scores(review))"
   ]
  },
  {
   "cell_type": "code",
   "execution_count": 30,
   "id": "bc4454d3",
   "metadata": {},
   "outputs": [],
   "source": [
    "df2['compound']  = df2['scores'].apply(lambda score_dict: score_dict['compound'])"
   ]
  },
  {
   "cell_type": "code",
   "execution_count": 31,
   "id": "b4b2edcf",
   "metadata": {},
   "outputs": [
    {
     "data": {
      "text/html": [
       "<div>\n",
       "<style scoped>\n",
       "    .dataframe tbody tr th:only-of-type {\n",
       "        vertical-align: middle;\n",
       "    }\n",
       "\n",
       "    .dataframe tbody tr th {\n",
       "        vertical-align: top;\n",
       "    }\n",
       "\n",
       "    .dataframe thead th {\n",
       "        text-align: right;\n",
       "    }\n",
       "</style>\n",
       "<table border=\"1\" class=\"dataframe\">\n",
       "  <thead>\n",
       "    <tr style=\"text-align: right;\">\n",
       "      <th></th>\n",
       "      <th>message</th>\n",
       "      <th>sentiment</th>\n",
       "      <th>scores</th>\n",
       "      <th>compound</th>\n",
       "      <th>comp_score</th>\n",
       "    </tr>\n",
       "  </thead>\n",
       "  <tbody>\n",
       "    <tr>\n",
       "      <th>0</th>\n",
       "      <td>I really enjoyed the movie</td>\n",
       "      <td>positive</td>\n",
       "      <td>{'neg': 0.0, 'neu': 0.455, 'pos': 0.545, 'comp...</td>\n",
       "      <td>0.5563</td>\n",
       "      <td>positive</td>\n",
       "    </tr>\n",
       "    <tr>\n",
       "      <th>1</th>\n",
       "      <td>The food was terrible</td>\n",
       "      <td>negative</td>\n",
       "      <td>{'neg': 0.508, 'neu': 0.492, 'pos': 0.0, 'comp...</td>\n",
       "      <td>-0.4767</td>\n",
       "      <td>negative</td>\n",
       "    </tr>\n",
       "    <tr>\n",
       "      <th>2</th>\n",
       "      <td>I'm not sure how I feel about this</td>\n",
       "      <td>neutral</td>\n",
       "      <td>{'neg': 0.246, 'neu': 0.754, 'pos': 0.0, 'comp...</td>\n",
       "      <td>-0.2411</td>\n",
       "      <td>negative</td>\n",
       "    </tr>\n",
       "    <tr>\n",
       "      <th>3</th>\n",
       "      <td>The service was excellent</td>\n",
       "      <td>positive</td>\n",
       "      <td>{'neg': 0.0, 'neu': 0.448, 'pos': 0.552, 'comp...</td>\n",
       "      <td>0.5719</td>\n",
       "      <td>positive</td>\n",
       "    </tr>\n",
       "    <tr>\n",
       "      <th>4</th>\n",
       "      <td>I had a bad experience</td>\n",
       "      <td>negative</td>\n",
       "      <td>{'neg': 0.636, 'neu': 0.364, 'pos': 0.0, 'comp...</td>\n",
       "      <td>-0.5423</td>\n",
       "      <td>negative</td>\n",
       "    </tr>\n",
       "  </tbody>\n",
       "</table>\n",
       "</div>"
      ],
      "text/plain": [
       "                              message sentiment  \\\n",
       "0          I really enjoyed the movie  positive   \n",
       "1               The food was terrible  negative   \n",
       "2  I'm not sure how I feel about this   neutral   \n",
       "3           The service was excellent  positive   \n",
       "4              I had a bad experience  negative   \n",
       "\n",
       "                                              scores  compound comp_score  \n",
       "0  {'neg': 0.0, 'neu': 0.455, 'pos': 0.545, 'comp...    0.5563   positive  \n",
       "1  {'neg': 0.508, 'neu': 0.492, 'pos': 0.0, 'comp...   -0.4767   negative  \n",
       "2  {'neg': 0.246, 'neu': 0.754, 'pos': 0.0, 'comp...   -0.2411   negative  \n",
       "3  {'neg': 0.0, 'neu': 0.448, 'pos': 0.552, 'comp...    0.5719   positive  \n",
       "4  {'neg': 0.636, 'neu': 0.364, 'pos': 0.0, 'comp...   -0.5423   negative  "
      ]
     },
     "execution_count": 31,
     "metadata": {},
     "output_type": "execute_result"
    }
   ],
   "source": [
    "df2['comp_score'] = df2['compound'].apply(lambda c: 'positive' if c > 0 else 'neutral' if c == 0 else 'negative')\n",
    "\n",
    "df2.head()"
   ]
  },
  {
   "cell_type": "code",
   "execution_count": 32,
   "id": "6d89f27c",
   "metadata": {},
   "outputs": [
    {
     "data": {
      "text/plain": [
       "positive    216\n",
       "negative    201\n",
       "neutral     167\n",
       "Name: comp_score, dtype: int64"
      ]
     },
     "execution_count": 32,
     "metadata": {},
     "output_type": "execute_result"
    }
   ],
   "source": [
    "df2['comp_score'].value_counts()"
   ]
  },
  {
   "cell_type": "code",
   "execution_count": 33,
   "id": "bfbbbe09",
   "metadata": {},
   "outputs": [
    {
     "data": {
      "text/plain": [
       "0.672945205479452"
      ]
     },
     "execution_count": 33,
     "metadata": {},
     "output_type": "execute_result"
    }
   ],
   "source": [
    "from sklearn.metrics import accuracy_score,classification_report,confusion_matrix\n",
    "accuracy_score(df2['sentiment'],df2['comp_score'])"
   ]
  },
  {
   "cell_type": "code",
   "execution_count": 34,
   "id": "f1ca1283",
   "metadata": {},
   "outputs": [
    {
     "name": "stdout",
     "output_type": "stream",
     "text": [
      "              precision    recall  f1-score   support\n",
      "\n",
      "    negative       0.57      0.78      0.66       147\n",
      "     neutral       0.73      0.47      0.57       259\n",
      "    positive       0.72      0.88      0.79       178\n",
      "\n",
      "    accuracy                           0.67       584\n",
      "   macro avg       0.67      0.71      0.68       584\n",
      "weighted avg       0.69      0.67      0.66       584\n",
      "\n"
     ]
    }
   ],
   "source": [
    "print(classification_report(df2['sentiment'],df2['comp_score']))"
   ]
  },
  {
   "cell_type": "code",
   "execution_count": 35,
   "id": "fb06121d",
   "metadata": {},
   "outputs": [
    {
     "name": "stdout",
     "output_type": "stream",
     "text": [
      "[[115  25   7]\n",
      " [ 84 122  53]\n",
      " [  2  20 156]]\n"
     ]
    }
   ],
   "source": [
    "print(confusion_matrix(df2['sentiment'],df2['comp_score']))"
   ]
  },
  {
   "cell_type": "code",
   "execution_count": null,
   "id": "2105068f",
   "metadata": {},
   "outputs": [],
   "source": []
  }
 ],
 "metadata": {
  "kernelspec": {
   "display_name": "Python 3 (ipykernel)",
   "language": "python",
   "name": "python3"
  },
  "language_info": {
   "codemirror_mode": {
    "name": "ipython",
    "version": 3
   },
   "file_extension": ".py",
   "mimetype": "text/x-python",
   "name": "python",
   "nbconvert_exporter": "python",
   "pygments_lexer": "ipython3",
   "version": "3.11.4"
  }
 },
 "nbformat": 4,
 "nbformat_minor": 5
}
